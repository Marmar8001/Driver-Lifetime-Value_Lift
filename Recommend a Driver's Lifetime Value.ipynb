{
 "cells": [
  {
   "cell_type": "markdown",
   "metadata": {},
   "source": [
    "# Table of Contents\n",
    "\n",
    "1. [Assignment](#assignment)\n",
    "2. [Read and Explore all Datasets](#read-and-explore-all-datasets)\n",
    "3. [Data Engineering](#data-engineering)\n",
    "   - [Calculate the Total Cost of Ride](#calculate-the-total-cost-of-ride)\n",
    "   - [Create Features of the Rides](#create-features-of-the-rides)\n",
    "   - [Create Features of the Drivers](#create-features-of-the-drivers)\n",
    "4. [Exploratory Data Analysis](#exploratory-data-analysis)\n",
    "   - [Main Factors Affecting a Driver's Lifetime Value](#main-factors-affecting-a-drivers-lifetime-value)\n",
    "   - [Average Projected Lifetime of a Driver](#average-projected-lifetime-of-a-driver)\n",
    "   - [Do All Drivers Act Alike? - Clustering Exercise](#do-all-drivers-act-alike---clustering-exercise)\n",
    "5. [Actionable Recommendations](#actionable-recommendations)\n",
    "6. [Assignment](#assignment-1)\n",
    "\n",
    "## Assignment\n",
    "\n",
    "We would like to answer some questions after exploring and analyzing the data. The questions are as follows:\n",
    "\n",
    "- Recommend a Driver's Lifetime Value (i.e., the value of a driver to Lyft over the entire projected lifetime of a driver).\n",
    "- What are the main factors that affect a driver's lifetime value?\n",
    "- What is the average projected lifetime of a driver? That is, once a driver is onboarded, how long do they typically continue driving with Lyft?\n",
    "- Do all drivers act alike? Are there specific segments of drivers that generate more value for Lyft than the average driver?\n",
    "- What actionable recommendations are there for the business?"
   ]
  },
  {
   "cell_type": "markdown",
   "metadata": {},
   "source": [
    "## Read and Explore all Datasets\n"
   ]
  },
  {
   "cell_type": "code",
   "execution_count": 1,
   "metadata": {},
   "outputs": [],
   "source": [
    "import pandas as pd\n",
    "import numpy as np\n",
    "import seaborn as sns\n",
    "import matplotlib.pyplot as plt\n",
    "from sklearn.cluster import KMeans"
   ]
  },
  {
   "cell_type": "code",
   "execution_count": 2,
   "metadata": {},
   "outputs": [],
   "source": [
    "df_drive=pd.read_csv('driver_ids.csv')"
   ]
  },
  {
   "cell_type": "code",
   "execution_count": 3,
   "metadata": {},
   "outputs": [
    {
     "data": {
      "text/plain": [
       "(937, 2)"
      ]
     },
     "execution_count": 3,
     "metadata": {},
     "output_type": "execute_result"
    }
   ],
   "source": [
    "df_drive.shape"
   ]
  },
  {
   "cell_type": "code",
   "execution_count": 4,
   "metadata": {},
   "outputs": [
    {
     "name": "stdout",
     "output_type": "stream",
     "text": [
      "unique_number_of_drivers:  937\n",
      "min_driver_onboard_date:  2016-03-28 00:00:00\n",
      "max_driver_onboard_date:  2016-05-15 00:00:00\n"
     ]
    }
   ],
   "source": [
    "print('unique_number_of_drivers: ', df_drive['driver_id'].nunique())\n",
    "print('min_driver_onboard_date: ', df_drive['driver_onboard_date'].min())\n",
    "print('max_driver_onboard_date: ', df_drive['driver_onboard_date'].max())"
   ]
  },
  {
   "cell_type": "code",
   "execution_count": 5,
   "metadata": {},
   "outputs": [],
   "source": [
    "df_ride=pd.read_csv('ride_ids.csv')"
   ]
  },
  {
   "cell_type": "code",
   "execution_count": 6,
   "metadata": {},
   "outputs": [
    {
     "data": {
      "text/html": [
       "<div>\n",
       "<style scoped>\n",
       "    .dataframe tbody tr th:only-of-type {\n",
       "        vertical-align: middle;\n",
       "    }\n",
       "\n",
       "    .dataframe tbody tr th {\n",
       "        vertical-align: top;\n",
       "    }\n",
       "\n",
       "    .dataframe thead th {\n",
       "        text-align: right;\n",
       "    }\n",
       "</style>\n",
       "<table border=\"1\" class=\"dataframe\">\n",
       "  <thead>\n",
       "    <tr style=\"text-align: right;\">\n",
       "      <th></th>\n",
       "      <th>driver_id</th>\n",
       "      <th>ride_id</th>\n",
       "      <th>ride_distance</th>\n",
       "      <th>ride_duration</th>\n",
       "      <th>ride_prime_time</th>\n",
       "    </tr>\n",
       "  </thead>\n",
       "  <tbody>\n",
       "    <tr>\n",
       "      <th>0</th>\n",
       "      <td>002be0ffdc997bd5c50703158b7c2491</td>\n",
       "      <td>006d61cf7446e682f7bc50b0f8a5bea5</td>\n",
       "      <td>1811</td>\n",
       "      <td>327</td>\n",
       "      <td>50</td>\n",
       "    </tr>\n",
       "    <tr>\n",
       "      <th>1</th>\n",
       "      <td>002be0ffdc997bd5c50703158b7c2491</td>\n",
       "      <td>01b522c5c3a756fbdb12e95e87507eda</td>\n",
       "      <td>3362</td>\n",
       "      <td>809</td>\n",
       "      <td>0</td>\n",
       "    </tr>\n",
       "    <tr>\n",
       "      <th>2</th>\n",
       "      <td>002be0ffdc997bd5c50703158b7c2491</td>\n",
       "      <td>029227c4c2971ce69ff2274dc798ef43</td>\n",
       "      <td>3282</td>\n",
       "      <td>572</td>\n",
       "      <td>0</td>\n",
       "    </tr>\n",
       "    <tr>\n",
       "      <th>3</th>\n",
       "      <td>002be0ffdc997bd5c50703158b7c2491</td>\n",
       "      <td>034e861343a63ac3c18a9ceb1ce0ac69</td>\n",
       "      <td>65283</td>\n",
       "      <td>3338</td>\n",
       "      <td>25</td>\n",
       "    </tr>\n",
       "    <tr>\n",
       "      <th>4</th>\n",
       "      <td>002be0ffdc997bd5c50703158b7c2491</td>\n",
       "      <td>034f2e614a2f9fc7f1c2f77647d1b981</td>\n",
       "      <td>4115</td>\n",
       "      <td>823</td>\n",
       "      <td>100</td>\n",
       "    </tr>\n",
       "    <tr>\n",
       "      <th>...</th>\n",
       "      <td>...</td>\n",
       "      <td>...</td>\n",
       "      <td>...</td>\n",
       "      <td>...</td>\n",
       "      <td>...</td>\n",
       "    </tr>\n",
       "    <tr>\n",
       "      <th>193497</th>\n",
       "      <td>ffff51a71f2f185ec5e97d59dbcd7a78</td>\n",
       "      <td>fc717192b3512767269ff5a54b97af05</td>\n",
       "      <td>10127</td>\n",
       "      <td>1336</td>\n",
       "      <td>0</td>\n",
       "    </tr>\n",
       "    <tr>\n",
       "      <th>193498</th>\n",
       "      <td>ffff51a71f2f185ec5e97d59dbcd7a78</td>\n",
       "      <td>fd6fa5f9265d2cf83936ead663f9e0e7</td>\n",
       "      <td>1908</td>\n",
       "      <td>445</td>\n",
       "      <td>0</td>\n",
       "    </tr>\n",
       "    <tr>\n",
       "      <th>193499</th>\n",
       "      <td>ffff51a71f2f185ec5e97d59dbcd7a78</td>\n",
       "      <td>fe0857c43025264d337dfe1d8463e503</td>\n",
       "      <td>4039</td>\n",
       "      <td>875</td>\n",
       "      <td>0</td>\n",
       "    </tr>\n",
       "    <tr>\n",
       "      <th>193500</th>\n",
       "      <td>ffff51a71f2f185ec5e97d59dbcd7a78</td>\n",
       "      <td>ff0db0ca4557bf5b05b4da6f660a1ac1</td>\n",
       "      <td>4760</td>\n",
       "      <td>777</td>\n",
       "      <td>0</td>\n",
       "    </tr>\n",
       "    <tr>\n",
       "      <th>193501</th>\n",
       "      <td>ffff51a71f2f185ec5e97d59dbcd7a78</td>\n",
       "      <td>ff7dc29693f8c79ff103d350a7b6c157</td>\n",
       "      <td>3751</td>\n",
       "      <td>889</td>\n",
       "      <td>100</td>\n",
       "    </tr>\n",
       "  </tbody>\n",
       "</table>\n",
       "<p>193502 rows × 5 columns</p>\n",
       "</div>"
      ],
      "text/plain": [
       "                               driver_id                           ride_id  \\\n",
       "0       002be0ffdc997bd5c50703158b7c2491  006d61cf7446e682f7bc50b0f8a5bea5   \n",
       "1       002be0ffdc997bd5c50703158b7c2491  01b522c5c3a756fbdb12e95e87507eda   \n",
       "2       002be0ffdc997bd5c50703158b7c2491  029227c4c2971ce69ff2274dc798ef43   \n",
       "3       002be0ffdc997bd5c50703158b7c2491  034e861343a63ac3c18a9ceb1ce0ac69   \n",
       "4       002be0ffdc997bd5c50703158b7c2491  034f2e614a2f9fc7f1c2f77647d1b981   \n",
       "...                                  ...                               ...   \n",
       "193497  ffff51a71f2f185ec5e97d59dbcd7a78  fc717192b3512767269ff5a54b97af05   \n",
       "193498  ffff51a71f2f185ec5e97d59dbcd7a78  fd6fa5f9265d2cf83936ead663f9e0e7   \n",
       "193499  ffff51a71f2f185ec5e97d59dbcd7a78  fe0857c43025264d337dfe1d8463e503   \n",
       "193500  ffff51a71f2f185ec5e97d59dbcd7a78  ff0db0ca4557bf5b05b4da6f660a1ac1   \n",
       "193501  ffff51a71f2f185ec5e97d59dbcd7a78  ff7dc29693f8c79ff103d350a7b6c157   \n",
       "\n",
       "        ride_distance  ride_duration  ride_prime_time  \n",
       "0                1811            327               50  \n",
       "1                3362            809                0  \n",
       "2                3282            572                0  \n",
       "3               65283           3338               25  \n",
       "4                4115            823              100  \n",
       "...               ...            ...              ...  \n",
       "193497          10127           1336                0  \n",
       "193498           1908            445                0  \n",
       "193499           4039            875                0  \n",
       "193500           4760            777                0  \n",
       "193501           3751            889              100  \n",
       "\n",
       "[193502 rows x 5 columns]"
      ]
     },
     "execution_count": 6,
     "metadata": {},
     "output_type": "execute_result"
    }
   ],
   "source": [
    "df_ride"
   ]
  },
  {
   "cell_type": "code",
   "execution_count": 7,
   "metadata": {},
   "outputs": [
    {
     "data": {
      "text/html": [
       "<div>\n",
       "<style scoped>\n",
       "    .dataframe tbody tr th:only-of-type {\n",
       "        vertical-align: middle;\n",
       "    }\n",
       "\n",
       "    .dataframe tbody tr th {\n",
       "        vertical-align: top;\n",
       "    }\n",
       "\n",
       "    .dataframe thead th {\n",
       "        text-align: right;\n",
       "    }\n",
       "</style>\n",
       "<table border=\"1\" class=\"dataframe\">\n",
       "  <thead>\n",
       "    <tr style=\"text-align: right;\">\n",
       "      <th></th>\n",
       "      <th>ride_distance</th>\n",
       "      <th>ride_duration</th>\n",
       "      <th>ride_prime_time</th>\n",
       "    </tr>\n",
       "  </thead>\n",
       "  <tbody>\n",
       "    <tr>\n",
       "      <th>count</th>\n",
       "      <td>193502.000000</td>\n",
       "      <td>193502.000000</td>\n",
       "      <td>193502.000000</td>\n",
       "    </tr>\n",
       "    <tr>\n",
       "      <th>mean</th>\n",
       "      <td>6955.218266</td>\n",
       "      <td>858.966099</td>\n",
       "      <td>17.305893</td>\n",
       "    </tr>\n",
       "    <tr>\n",
       "      <th>std</th>\n",
       "      <td>8929.444606</td>\n",
       "      <td>571.375818</td>\n",
       "      <td>30.825800</td>\n",
       "    </tr>\n",
       "    <tr>\n",
       "      <th>min</th>\n",
       "      <td>-2.000000</td>\n",
       "      <td>2.000000</td>\n",
       "      <td>0.000000</td>\n",
       "    </tr>\n",
       "    <tr>\n",
       "      <th>25%</th>\n",
       "      <td>2459.000000</td>\n",
       "      <td>491.000000</td>\n",
       "      <td>0.000000</td>\n",
       "    </tr>\n",
       "    <tr>\n",
       "      <th>50%</th>\n",
       "      <td>4015.000000</td>\n",
       "      <td>727.000000</td>\n",
       "      <td>0.000000</td>\n",
       "    </tr>\n",
       "    <tr>\n",
       "      <th>75%</th>\n",
       "      <td>7193.000000</td>\n",
       "      <td>1069.000000</td>\n",
       "      <td>25.000000</td>\n",
       "    </tr>\n",
       "    <tr>\n",
       "      <th>max</th>\n",
       "      <td>724679.000000</td>\n",
       "      <td>28204.000000</td>\n",
       "      <td>500.000000</td>\n",
       "    </tr>\n",
       "  </tbody>\n",
       "</table>\n",
       "</div>"
      ],
      "text/plain": [
       "       ride_distance  ride_duration  ride_prime_time\n",
       "count  193502.000000  193502.000000    193502.000000\n",
       "mean     6955.218266     858.966099        17.305893\n",
       "std      8929.444606     571.375818        30.825800\n",
       "min        -2.000000       2.000000         0.000000\n",
       "25%      2459.000000     491.000000         0.000000\n",
       "50%      4015.000000     727.000000         0.000000\n",
       "75%      7193.000000    1069.000000        25.000000\n",
       "max    724679.000000   28204.000000       500.000000"
      ]
     },
     "execution_count": 7,
     "metadata": {},
     "output_type": "execute_result"
    }
   ],
   "source": [
    "df_ride.describe()"
   ]
  },
  {
   "cell_type": "code",
   "execution_count": 8,
   "metadata": {},
   "outputs": [
    {
     "name": "stdout",
     "output_type": "stream",
     "text": [
      "number_of_rides:  193502\n",
      "number_of_drivers:  937\n"
     ]
    }
   ],
   "source": [
    "print('number_of_rides: ', df_ride['ride_id'].nunique())\n",
    "print('number_of_drivers: ', df_ride['driver_id'].nunique())"
   ]
  },
  {
   "cell_type": "code",
   "execution_count": 9,
   "metadata": {},
   "outputs": [
    {
     "data": {
      "text/html": [
       "<div>\n",
       "<style scoped>\n",
       "    .dataframe tbody tr th:only-of-type {\n",
       "        vertical-align: middle;\n",
       "    }\n",
       "\n",
       "    .dataframe tbody tr th {\n",
       "        vertical-align: top;\n",
       "    }\n",
       "\n",
       "    .dataframe thead th {\n",
       "        text-align: right;\n",
       "    }\n",
       "</style>\n",
       "<table border=\"1\" class=\"dataframe\">\n",
       "  <thead>\n",
       "    <tr style=\"text-align: right;\">\n",
       "      <th></th>\n",
       "      <th>ride_id</th>\n",
       "      <th>event</th>\n",
       "      <th>timestamp</th>\n",
       "    </tr>\n",
       "  </thead>\n",
       "  <tbody>\n",
       "    <tr>\n",
       "      <th>0</th>\n",
       "      <td>00003037a262d9ee40e61b5c0718f7f0</td>\n",
       "      <td>requested_at</td>\n",
       "      <td>2016-06-13 09:39:19</td>\n",
       "    </tr>\n",
       "    <tr>\n",
       "      <th>1</th>\n",
       "      <td>00003037a262d9ee40e61b5c0718f7f0</td>\n",
       "      <td>accepted_at</td>\n",
       "      <td>2016-06-13 09:39:51</td>\n",
       "    </tr>\n",
       "    <tr>\n",
       "      <th>2</th>\n",
       "      <td>00003037a262d9ee40e61b5c0718f7f0</td>\n",
       "      <td>arrived_at</td>\n",
       "      <td>2016-06-13 09:44:31</td>\n",
       "    </tr>\n",
       "    <tr>\n",
       "      <th>3</th>\n",
       "      <td>00003037a262d9ee40e61b5c0718f7f0</td>\n",
       "      <td>picked_up_at</td>\n",
       "      <td>2016-06-13 09:44:33</td>\n",
       "    </tr>\n",
       "    <tr>\n",
       "      <th>4</th>\n",
       "      <td>00003037a262d9ee40e61b5c0718f7f0</td>\n",
       "      <td>dropped_off_at</td>\n",
       "      <td>2016-06-13 10:03:05</td>\n",
       "    </tr>\n",
       "  </tbody>\n",
       "</table>\n",
       "</div>"
      ],
      "text/plain": [
       "                            ride_id           event            timestamp\n",
       "0  00003037a262d9ee40e61b5c0718f7f0    requested_at  2016-06-13 09:39:19\n",
       "1  00003037a262d9ee40e61b5c0718f7f0     accepted_at  2016-06-13 09:39:51\n",
       "2  00003037a262d9ee40e61b5c0718f7f0      arrived_at  2016-06-13 09:44:31\n",
       "3  00003037a262d9ee40e61b5c0718f7f0    picked_up_at  2016-06-13 09:44:33\n",
       "4  00003037a262d9ee40e61b5c0718f7f0  dropped_off_at  2016-06-13 10:03:05"
      ]
     },
     "execution_count": 9,
     "metadata": {},
     "output_type": "execute_result"
    }
   ],
   "source": [
    "df_timestamp = pd.read_csv('ride_timestamps.csv')\n",
    "df_timestamp.head()"
   ]
  },
  {
   "cell_type": "code",
   "execution_count": 10,
   "metadata": {},
   "outputs": [
    {
     "name": "stdout",
     "output_type": "stream",
     "text": [
      "event:  ['requested_at' 'accepted_at' 'arrived_at' 'picked_up_at' 'dropped_off_at']\n",
      "number_of_rides:  194081\n"
     ]
    }
   ],
   "source": [
    "print('event: ', df_timestamp['event'].unique())\n",
    "print('number_of_rides: ', df_timestamp['ride_id'].nunique())"
   ]
  },
  {
   "cell_type": "markdown",
   "metadata": {},
   "source": [
    "## Data Engineering\n",
    "\n",
    "## Calculate the Total Cost of Ride\n",
    "We calculate the cost per ride using the assumptions from the Lyft rate card given:\n",
    "\n",
    "- Base Fare: $2.00 \n",
    "\n",
    "- Cost per Mile: $1.15\n",
    "\n",
    "- Cost per Minute: $0.22\n",
    "\n",
    "- Service Fee: $1.75\n",
    "\n",
    "- Minimum Fare: $5.00\n",
    "\n",
    "- Maximum Fare: $400.00"
   ]
  },
  {
   "cell_type": "markdown",
   "metadata": {},
   "source": [
    "cost_per_ride= (base_fare + cost_per_mile × ride_distance + cost_per_minute × ride_duration)×(1+ride_prime_time/100) + service_fee\n",
    "\n",
    "\n",
    "After that, we check if there are any costs less than minimum fare, or more than maximum fare are change them appropriately, to either minimum or maximum Fare respectively.\n",
    "\n",
    " \n"
   ]
  },
  {
   "cell_type": "code",
   "execution_count": 11,
   "metadata": {},
   "outputs": [],
   "source": [
    "# calc. total life time of ride (convert ride_distance from meters to miles, convert ride_duration from seconds to minutes)\n",
    "\n",
    "df_ride['cost_per_ride']=((2+df_ride['ride_distance']*0.000621371*1.15+df_ride['ride_duration']/60*0.22)*\n",
    "                          (1+df_ride['ride_prime_time']/100))+1.75"
   ]
  },
  {
   "cell_type": "code",
   "execution_count": 12,
   "metadata": {},
   "outputs": [],
   "source": [
    "# Apply lower bound to ride cost (Minimum Fare)\n",
    "\n",
    "df_ride['cost_per_ride']=np.where(df_ride['cost_per_ride']<5, 5, df_ride['cost_per_ride'] )"
   ]
  },
  {
   "cell_type": "code",
   "execution_count": 13,
   "metadata": {},
   "outputs": [],
   "source": [
    "# Apply upper bound to ride cost (Maximum Fare)\n",
    "\n",
    "df_ride['cost_per_ride']=np.where(df_ride['cost_per_ride']>400, 400, df_ride['cost_per_ride'] )"
   ]
  },
  {
   "cell_type": "code",
   "execution_count": 14,
   "metadata": {},
   "outputs": [
    {
     "data": {
      "text/html": [
       "<div>\n",
       "<style scoped>\n",
       "    .dataframe tbody tr th:only-of-type {\n",
       "        vertical-align: middle;\n",
       "    }\n",
       "\n",
       "    .dataframe tbody tr th {\n",
       "        vertical-align: top;\n",
       "    }\n",
       "\n",
       "    .dataframe thead th {\n",
       "        text-align: right;\n",
       "    }\n",
       "</style>\n",
       "<table border=\"1\" class=\"dataframe\">\n",
       "  <thead>\n",
       "    <tr style=\"text-align: right;\">\n",
       "      <th></th>\n",
       "      <th>driver_id</th>\n",
       "      <th>ride_id</th>\n",
       "      <th>ride_distance</th>\n",
       "      <th>ride_duration</th>\n",
       "      <th>ride_prime_time</th>\n",
       "      <th>cost_per_ride</th>\n",
       "    </tr>\n",
       "  </thead>\n",
       "  <tbody>\n",
       "    <tr>\n",
       "      <th>0</th>\n",
       "      <td>002be0ffdc997bd5c50703158b7c2491</td>\n",
       "      <td>006d61cf7446e682f7bc50b0f8a5bea5</td>\n",
       "      <td>1811</td>\n",
       "      <td>327</td>\n",
       "      <td>50</td>\n",
       "      <td>8.489647</td>\n",
       "    </tr>\n",
       "    <tr>\n",
       "      <th>1</th>\n",
       "      <td>002be0ffdc997bd5c50703158b7c2491</td>\n",
       "      <td>01b522c5c3a756fbdb12e95e87507eda</td>\n",
       "      <td>3362</td>\n",
       "      <td>809</td>\n",
       "      <td>0</td>\n",
       "      <td>9.118740</td>\n",
       "    </tr>\n",
       "    <tr>\n",
       "      <th>2</th>\n",
       "      <td>002be0ffdc997bd5c50703158b7c2491</td>\n",
       "      <td>029227c4c2971ce69ff2274dc798ef43</td>\n",
       "      <td>3282</td>\n",
       "      <td>572</td>\n",
       "      <td>0</td>\n",
       "      <td>8.192574</td>\n",
       "    </tr>\n",
       "    <tr>\n",
       "      <th>3</th>\n",
       "      <td>002be0ffdc997bd5c50703158b7c2491</td>\n",
       "      <td>034e861343a63ac3c18a9ceb1ce0ac69</td>\n",
       "      <td>65283</td>\n",
       "      <td>3338</td>\n",
       "      <td>25</td>\n",
       "      <td>77.861301</td>\n",
       "    </tr>\n",
       "    <tr>\n",
       "      <th>4</th>\n",
       "      <td>002be0ffdc997bd5c50703158b7c2491</td>\n",
       "      <td>034f2e614a2f9fc7f1c2f77647d1b981</td>\n",
       "      <td>4115</td>\n",
       "      <td>823</td>\n",
       "      <td>100</td>\n",
       "      <td>17.666299</td>\n",
       "    </tr>\n",
       "    <tr>\n",
       "      <th>...</th>\n",
       "      <td>...</td>\n",
       "      <td>...</td>\n",
       "      <td>...</td>\n",
       "      <td>...</td>\n",
       "      <td>...</td>\n",
       "      <td>...</td>\n",
       "    </tr>\n",
       "    <tr>\n",
       "      <th>193497</th>\n",
       "      <td>ffff51a71f2f185ec5e97d59dbcd7a78</td>\n",
       "      <td>fc717192b3512767269ff5a54b97af05</td>\n",
       "      <td>10127</td>\n",
       "      <td>1336</td>\n",
       "      <td>0</td>\n",
       "      <td>15.885184</td>\n",
       "    </tr>\n",
       "    <tr>\n",
       "      <th>193498</th>\n",
       "      <td>ffff51a71f2f185ec5e97d59dbcd7a78</td>\n",
       "      <td>fd6fa5f9265d2cf83936ead663f9e0e7</td>\n",
       "      <td>1908</td>\n",
       "      <td>445</td>\n",
       "      <td>0</td>\n",
       "      <td>6.745079</td>\n",
       "    </tr>\n",
       "    <tr>\n",
       "      <th>193499</th>\n",
       "      <td>ffff51a71f2f185ec5e97d59dbcd7a78</td>\n",
       "      <td>fe0857c43025264d337dfe1d8463e503</td>\n",
       "      <td>4039</td>\n",
       "      <td>875</td>\n",
       "      <td>0</td>\n",
       "      <td>9.844508</td>\n",
       "    </tr>\n",
       "    <tr>\n",
       "      <th>193500</th>\n",
       "      <td>ffff51a71f2f185ec5e97d59dbcd7a78</td>\n",
       "      <td>ff0db0ca4557bf5b05b4da6f660a1ac1</td>\n",
       "      <td>4760</td>\n",
       "      <td>777</td>\n",
       "      <td>0</td>\n",
       "      <td>10.000385</td>\n",
       "    </tr>\n",
       "    <tr>\n",
       "      <th>193501</th>\n",
       "      <td>ffff51a71f2f185ec5e97d59dbcd7a78</td>\n",
       "      <td>ff7dc29693f8c79ff103d350a7b6c157</td>\n",
       "      <td>3751</td>\n",
       "      <td>889</td>\n",
       "      <td>100</td>\n",
       "      <td>17.630087</td>\n",
       "    </tr>\n",
       "  </tbody>\n",
       "</table>\n",
       "<p>193502 rows × 6 columns</p>\n",
       "</div>"
      ],
      "text/plain": [
       "                               driver_id                           ride_id  \\\n",
       "0       002be0ffdc997bd5c50703158b7c2491  006d61cf7446e682f7bc50b0f8a5bea5   \n",
       "1       002be0ffdc997bd5c50703158b7c2491  01b522c5c3a756fbdb12e95e87507eda   \n",
       "2       002be0ffdc997bd5c50703158b7c2491  029227c4c2971ce69ff2274dc798ef43   \n",
       "3       002be0ffdc997bd5c50703158b7c2491  034e861343a63ac3c18a9ceb1ce0ac69   \n",
       "4       002be0ffdc997bd5c50703158b7c2491  034f2e614a2f9fc7f1c2f77647d1b981   \n",
       "...                                  ...                               ...   \n",
       "193497  ffff51a71f2f185ec5e97d59dbcd7a78  fc717192b3512767269ff5a54b97af05   \n",
       "193498  ffff51a71f2f185ec5e97d59dbcd7a78  fd6fa5f9265d2cf83936ead663f9e0e7   \n",
       "193499  ffff51a71f2f185ec5e97d59dbcd7a78  fe0857c43025264d337dfe1d8463e503   \n",
       "193500  ffff51a71f2f185ec5e97d59dbcd7a78  ff0db0ca4557bf5b05b4da6f660a1ac1   \n",
       "193501  ffff51a71f2f185ec5e97d59dbcd7a78  ff7dc29693f8c79ff103d350a7b6c157   \n",
       "\n",
       "        ride_distance  ride_duration  ride_prime_time  cost_per_ride  \n",
       "0                1811            327               50       8.489647  \n",
       "1                3362            809                0       9.118740  \n",
       "2                3282            572                0       8.192574  \n",
       "3               65283           3338               25      77.861301  \n",
       "4                4115            823              100      17.666299  \n",
       "...               ...            ...              ...            ...  \n",
       "193497          10127           1336                0      15.885184  \n",
       "193498           1908            445                0       6.745079  \n",
       "193499           4039            875                0       9.844508  \n",
       "193500           4760            777                0      10.000385  \n",
       "193501           3751            889              100      17.630087  \n",
       "\n",
       "[193502 rows x 6 columns]"
      ]
     },
     "execution_count": 14,
     "metadata": {},
     "output_type": "execute_result"
    }
   ],
   "source": [
    "df_ride"
   ]
  },
  {
   "cell_type": "code",
   "execution_count": 15,
   "metadata": {},
   "outputs": [
    {
     "name": "stdout",
     "output_type": "stream",
     "text": [
      "<class 'pandas.core.frame.DataFrame'>\n",
      "RangeIndex: 970405 entries, 0 to 970404\n",
      "Data columns (total 3 columns):\n",
      " #   Column     Non-Null Count   Dtype \n",
      "---  ------     --------------   ----- \n",
      " 0   ride_id    970405 non-null  object\n",
      " 1   event      970405 non-null  object\n",
      " 2   timestamp  970404 non-null  object\n",
      "dtypes: object(3)\n",
      "memory usage: 22.2+ MB\n"
     ]
    }
   ],
   "source": [
    "df_timestamp.info()"
   ]
  },
  {
   "cell_type": "code",
   "execution_count": 16,
   "metadata": {},
   "outputs": [],
   "source": [
    "df_timestamp['timestamp']= pd.to_datetime(df_timestamp['timestamp'])"
   ]
  },
  {
   "cell_type": "code",
   "execution_count": 17,
   "metadata": {},
   "outputs": [],
   "source": [
    "df_timestamp = df_timestamp.pivot(values = 'timestamp', index=['ride_id'], columns = 'event').reset_index()\n"
   ]
  },
  {
   "cell_type": "code",
   "execution_count": 18,
   "metadata": {},
   "outputs": [
    {
     "data": {
      "text/html": [
       "<div>\n",
       "<style scoped>\n",
       "    .dataframe tbody tr th:only-of-type {\n",
       "        vertical-align: middle;\n",
       "    }\n",
       "\n",
       "    .dataframe tbody tr th {\n",
       "        vertical-align: top;\n",
       "    }\n",
       "\n",
       "    .dataframe thead th {\n",
       "        text-align: right;\n",
       "    }\n",
       "</style>\n",
       "<table border=\"1\" class=\"dataframe\">\n",
       "  <thead>\n",
       "    <tr style=\"text-align: right;\">\n",
       "      <th>event</th>\n",
       "      <th>ride_id</th>\n",
       "      <th>accepted_at</th>\n",
       "      <th>arrived_at</th>\n",
       "      <th>dropped_off_at</th>\n",
       "      <th>picked_up_at</th>\n",
       "      <th>requested_at</th>\n",
       "    </tr>\n",
       "  </thead>\n",
       "  <tbody>\n",
       "    <tr>\n",
       "      <th>0</th>\n",
       "      <td>00003037a262d9ee40e61b5c0718f7f0</td>\n",
       "      <td>2016-06-13 09:39:51</td>\n",
       "      <td>2016-06-13 09:44:31</td>\n",
       "      <td>2016-06-13 10:03:05</td>\n",
       "      <td>2016-06-13 09:44:33</td>\n",
       "      <td>2016-06-13 09:39:19</td>\n",
       "    </tr>\n",
       "    <tr>\n",
       "      <th>1</th>\n",
       "      <td>00005eae40882760d675da5effb89ae3</td>\n",
       "      <td>2016-05-14 05:23:25</td>\n",
       "      <td>2016-05-14 05:26:17</td>\n",
       "      <td>2016-05-14 05:34:17</td>\n",
       "      <td>2016-05-14 05:26:18</td>\n",
       "      <td>2016-05-14 05:23:21</td>\n",
       "    </tr>\n",
       "    <tr>\n",
       "      <th>2</th>\n",
       "      <td>000061d42cf29f73b591041d9a1b2973</td>\n",
       "      <td>2016-05-16 15:43:14</td>\n",
       "      <td>2016-05-16 15:47:29</td>\n",
       "      <td>2016-05-16 15:54:18</td>\n",
       "      <td>2016-05-16 15:47:32</td>\n",
       "      <td>2016-05-16 15:43:09</td>\n",
       "    </tr>\n",
       "    <tr>\n",
       "      <th>3</th>\n",
       "      <td>00006efeb0d5e3ccad7d921ddeee9900</td>\n",
       "      <td>2016-05-11 19:29:43</td>\n",
       "      <td>2016-05-11 19:35:11</td>\n",
       "      <td>2016-05-11 19:40:47</td>\n",
       "      <td>2016-05-11 19:35:15</td>\n",
       "      <td>2016-05-11 19:29:36</td>\n",
       "    </tr>\n",
       "    <tr>\n",
       "      <th>4</th>\n",
       "      <td>0000d9b24d8ccdd991b76258e616fa01</td>\n",
       "      <td>2016-04-26 18:12:15</td>\n",
       "      <td>2016-04-26 18:16:52</td>\n",
       "      <td>2016-04-26 18:24:14</td>\n",
       "      <td>2016-04-26 18:16:55</td>\n",
       "      <td>2016-04-26 18:11:38</td>\n",
       "    </tr>\n",
       "  </tbody>\n",
       "</table>\n",
       "</div>"
      ],
      "text/plain": [
       "event                           ride_id         accepted_at  \\\n",
       "0      00003037a262d9ee40e61b5c0718f7f0 2016-06-13 09:39:51   \n",
       "1      00005eae40882760d675da5effb89ae3 2016-05-14 05:23:25   \n",
       "2      000061d42cf29f73b591041d9a1b2973 2016-05-16 15:43:14   \n",
       "3      00006efeb0d5e3ccad7d921ddeee9900 2016-05-11 19:29:43   \n",
       "4      0000d9b24d8ccdd991b76258e616fa01 2016-04-26 18:12:15   \n",
       "\n",
       "event          arrived_at      dropped_off_at        picked_up_at  \\\n",
       "0     2016-06-13 09:44:31 2016-06-13 10:03:05 2016-06-13 09:44:33   \n",
       "1     2016-05-14 05:26:17 2016-05-14 05:34:17 2016-05-14 05:26:18   \n",
       "2     2016-05-16 15:47:29 2016-05-16 15:54:18 2016-05-16 15:47:32   \n",
       "3     2016-05-11 19:35:11 2016-05-11 19:40:47 2016-05-11 19:35:15   \n",
       "4     2016-04-26 18:16:52 2016-04-26 18:24:14 2016-04-26 18:16:55   \n",
       "\n",
       "event        requested_at  \n",
       "0     2016-06-13 09:39:19  \n",
       "1     2016-05-14 05:23:21  \n",
       "2     2016-05-16 15:43:09  \n",
       "3     2016-05-11 19:29:36  \n",
       "4     2016-04-26 18:11:38  "
      ]
     },
     "execution_count": 18,
     "metadata": {},
     "output_type": "execute_result"
    }
   ],
   "source": [
    "df_timestamp.head()"
   ]
  },
  {
   "cell_type": "markdown",
   "metadata": {},
   "source": [
    "### Create Features of the Rides"
   ]
  },
  {
   "cell_type": "code",
   "execution_count": 19,
   "metadata": {},
   "outputs": [],
   "source": [
    "df_timestamp['ride_accept_response_time']= df_timestamp['accepted_at']-df_timestamp['requested_at']"
   ]
  },
  {
   "cell_type": "code",
   "execution_count": 20,
   "metadata": {},
   "outputs": [],
   "source": [
    "#time a driver takes to accept a ride once it is requested in minutes\n",
    "df_timestamp['ride_accept_response_time']=df_timestamp['ride_accept_response_time'].dt.total_seconds()/60"
   ]
  },
  {
   "cell_type": "code",
   "execution_count": 21,
   "metadata": {},
   "outputs": [
    {
     "data": {
      "text/plain": [
       "83.8"
      ]
     },
     "execution_count": 21,
     "metadata": {},
     "output_type": "execute_result"
    }
   ],
   "source": [
    "df_timestamp['ride_accept_response_time'].max()"
   ]
  },
  {
   "cell_type": "code",
   "execution_count": 22,
   "metadata": {},
   "outputs": [],
   "source": [
    "df_timestamp['ride_arrival_time']= df_timestamp['arrived_at']-df_timestamp['accepted_at']"
   ]
  },
  {
   "cell_type": "code",
   "execution_count": 23,
   "metadata": {},
   "outputs": [],
   "source": [
    "#time a driver takes to reach the pickup location once a ride is accepted in minutes\n",
    "df_timestamp['ride_arrival_time']=df_timestamp['ride_arrival_time'].dt.total_seconds()/60"
   ]
  },
  {
   "cell_type": "code",
   "execution_count": 24,
   "metadata": {},
   "outputs": [],
   "source": [
    "df_timestamp['ride_time']= df_timestamp['dropped_off_at']-df_timestamp['picked_up_at']"
   ]
  },
  {
   "cell_type": "code",
   "execution_count": 25,
   "metadata": {},
   "outputs": [],
   "source": [
    "#time a driver takes to reach the destination location once a passenger is picked up in minutes\n",
    "\n",
    "df_timestamp['ride_time']=df_timestamp['ride_time'].dt.total_seconds()/60"
   ]
  },
  {
   "cell_type": "code",
   "execution_count": 26,
   "metadata": {},
   "outputs": [],
   "source": [
    "df_timestamp['ride_wait_time']= df_timestamp['picked_up_at']-df_timestamp['arrived_at']"
   ]
  },
  {
   "cell_type": "code",
   "execution_count": 27,
   "metadata": {},
   "outputs": [],
   "source": [
    "#time a driver waits for the rider once the driver reaches the pickup location in minutes\n",
    "df_timestamp['ride_wait_time']=df_timestamp['ride_wait_time'].dt.total_seconds()/60"
   ]
  },
  {
   "cell_type": "code",
   "execution_count": 28,
   "metadata": {},
   "outputs": [],
   "source": [
    "# divide ride distance to 3 categories (Short ride, medium ride, long ride) dependant on ride_distance column (KM)\n",
    "\n",
    "conditions = [df_timestamp['ride_time'] <=df_timestamp['ride_time'].quantile(0.33),\n",
    "    ((df_timestamp['ride_time'] > df_timestamp['ride_time'].quantile(0.33))& (df_timestamp['ride_time'] <=df_timestamp['ride_time'].quantile(0.66))),\n",
    "    df_timestamp['ride_time'] >df_timestamp['ride_time'].quantile(0.66)]\n",
    "\n",
    "choices = ['short','medium','long']"
   ]
  },
  {
   "cell_type": "code",
   "execution_count": 29,
   "metadata": {},
   "outputs": [],
   "source": [
    "df_timestamp['ride_length'] = np.select(conditions, choices)\n"
   ]
  },
  {
   "cell_type": "code",
   "execution_count": 30,
   "metadata": {},
   "outputs": [],
   "source": [
    "# divide ride time to 3 categories (Morning ride, evening ride, night ride) dependant on accepted_at column (time)\n",
    "\n",
    "conditions = [((df_timestamp['picked_up_at'].dt.hour >=6)&(df_timestamp['picked_up_at'].dt.hour <15)),\n",
    "              ((df_timestamp['picked_up_at'].dt.hour >=15)& (df_timestamp['picked_up_at'].dt.hour<21)),\n",
    "              ((df_timestamp['picked_up_at'].dt.hour >=21)|(df_timestamp['picked_up_at'].dt.hour <6))]\n",
    "\n",
    "choices = ['morning','evening','night']"
   ]
  },
  {
   "cell_type": "code",
   "execution_count": 31,
   "metadata": {},
   "outputs": [],
   "source": [
    "df_timestamp['ride_time'] = np.select(conditions, choices)\n"
   ]
  },
  {
   "cell_type": "code",
   "execution_count": 32,
   "metadata": {},
   "outputs": [
    {
     "data": {
      "text/html": [
       "<div>\n",
       "<style scoped>\n",
       "    .dataframe tbody tr th:only-of-type {\n",
       "        vertical-align: middle;\n",
       "    }\n",
       "\n",
       "    .dataframe tbody tr th {\n",
       "        vertical-align: top;\n",
       "    }\n",
       "\n",
       "    .dataframe thead th {\n",
       "        text-align: right;\n",
       "    }\n",
       "</style>\n",
       "<table border=\"1\" class=\"dataframe\">\n",
       "  <thead>\n",
       "    <tr style=\"text-align: right;\">\n",
       "      <th>event</th>\n",
       "      <th>ride_id</th>\n",
       "      <th>accepted_at</th>\n",
       "      <th>arrived_at</th>\n",
       "      <th>dropped_off_at</th>\n",
       "      <th>picked_up_at</th>\n",
       "      <th>requested_at</th>\n",
       "      <th>ride_accept_response_time</th>\n",
       "      <th>ride_arrival_time</th>\n",
       "      <th>ride_time</th>\n",
       "      <th>ride_wait_time</th>\n",
       "      <th>ride_length</th>\n",
       "    </tr>\n",
       "  </thead>\n",
       "  <tbody>\n",
       "    <tr>\n",
       "      <th>0</th>\n",
       "      <td>00003037a262d9ee40e61b5c0718f7f0</td>\n",
       "      <td>2016-06-13 09:39:51</td>\n",
       "      <td>2016-06-13 09:44:31</td>\n",
       "      <td>2016-06-13 10:03:05</td>\n",
       "      <td>2016-06-13 09:44:33</td>\n",
       "      <td>2016-06-13 09:39:19</td>\n",
       "      <td>0.533333</td>\n",
       "      <td>4.666667</td>\n",
       "      <td>morning</td>\n",
       "      <td>0.033333</td>\n",
       "      <td>long</td>\n",
       "    </tr>\n",
       "    <tr>\n",
       "      <th>1</th>\n",
       "      <td>00005eae40882760d675da5effb89ae3</td>\n",
       "      <td>2016-05-14 05:23:25</td>\n",
       "      <td>2016-05-14 05:26:17</td>\n",
       "      <td>2016-05-14 05:34:17</td>\n",
       "      <td>2016-05-14 05:26:18</td>\n",
       "      <td>2016-05-14 05:23:21</td>\n",
       "      <td>0.066667</td>\n",
       "      <td>2.866667</td>\n",
       "      <td>night</td>\n",
       "      <td>0.016667</td>\n",
       "      <td>short</td>\n",
       "    </tr>\n",
       "    <tr>\n",
       "      <th>2</th>\n",
       "      <td>000061d42cf29f73b591041d9a1b2973</td>\n",
       "      <td>2016-05-16 15:43:14</td>\n",
       "      <td>2016-05-16 15:47:29</td>\n",
       "      <td>2016-05-16 15:54:18</td>\n",
       "      <td>2016-05-16 15:47:32</td>\n",
       "      <td>2016-05-16 15:43:09</td>\n",
       "      <td>0.083333</td>\n",
       "      <td>4.250000</td>\n",
       "      <td>evening</td>\n",
       "      <td>0.050000</td>\n",
       "      <td>short</td>\n",
       "    </tr>\n",
       "    <tr>\n",
       "      <th>3</th>\n",
       "      <td>00006efeb0d5e3ccad7d921ddeee9900</td>\n",
       "      <td>2016-05-11 19:29:43</td>\n",
       "      <td>2016-05-11 19:35:11</td>\n",
       "      <td>2016-05-11 19:40:47</td>\n",
       "      <td>2016-05-11 19:35:15</td>\n",
       "      <td>2016-05-11 19:29:36</td>\n",
       "      <td>0.116667</td>\n",
       "      <td>5.466667</td>\n",
       "      <td>evening</td>\n",
       "      <td>0.066667</td>\n",
       "      <td>short</td>\n",
       "    </tr>\n",
       "    <tr>\n",
       "      <th>4</th>\n",
       "      <td>0000d9b24d8ccdd991b76258e616fa01</td>\n",
       "      <td>2016-04-26 18:12:15</td>\n",
       "      <td>2016-04-26 18:16:52</td>\n",
       "      <td>2016-04-26 18:24:14</td>\n",
       "      <td>2016-04-26 18:16:55</td>\n",
       "      <td>2016-04-26 18:11:38</td>\n",
       "      <td>0.616667</td>\n",
       "      <td>4.616667</td>\n",
       "      <td>evening</td>\n",
       "      <td>0.050000</td>\n",
       "      <td>short</td>\n",
       "    </tr>\n",
       "  </tbody>\n",
       "</table>\n",
       "</div>"
      ],
      "text/plain": [
       "event                           ride_id         accepted_at  \\\n",
       "0      00003037a262d9ee40e61b5c0718f7f0 2016-06-13 09:39:51   \n",
       "1      00005eae40882760d675da5effb89ae3 2016-05-14 05:23:25   \n",
       "2      000061d42cf29f73b591041d9a1b2973 2016-05-16 15:43:14   \n",
       "3      00006efeb0d5e3ccad7d921ddeee9900 2016-05-11 19:29:43   \n",
       "4      0000d9b24d8ccdd991b76258e616fa01 2016-04-26 18:12:15   \n",
       "\n",
       "event          arrived_at      dropped_off_at        picked_up_at  \\\n",
       "0     2016-06-13 09:44:31 2016-06-13 10:03:05 2016-06-13 09:44:33   \n",
       "1     2016-05-14 05:26:17 2016-05-14 05:34:17 2016-05-14 05:26:18   \n",
       "2     2016-05-16 15:47:29 2016-05-16 15:54:18 2016-05-16 15:47:32   \n",
       "3     2016-05-11 19:35:11 2016-05-11 19:40:47 2016-05-11 19:35:15   \n",
       "4     2016-04-26 18:16:52 2016-04-26 18:24:14 2016-04-26 18:16:55   \n",
       "\n",
       "event        requested_at  ride_accept_response_time  ride_arrival_time  \\\n",
       "0     2016-06-13 09:39:19                   0.533333           4.666667   \n",
       "1     2016-05-14 05:23:21                   0.066667           2.866667   \n",
       "2     2016-05-16 15:43:09                   0.083333           4.250000   \n",
       "3     2016-05-11 19:29:36                   0.116667           5.466667   \n",
       "4     2016-04-26 18:11:38                   0.616667           4.616667   \n",
       "\n",
       "event ride_time  ride_wait_time ride_length  \n",
       "0       morning        0.033333        long  \n",
       "1         night        0.016667       short  \n",
       "2       evening        0.050000       short  \n",
       "3       evening        0.066667       short  \n",
       "4       evening        0.050000       short  "
      ]
     },
     "execution_count": 32,
     "metadata": {},
     "output_type": "execute_result"
    }
   ],
   "source": [
    "df_timestamp.head()"
   ]
  },
  {
   "cell_type": "code",
   "execution_count": 33,
   "metadata": {},
   "outputs": [
    {
     "data": {
      "image/png": "[encoded data removed]",
      "text/plain": [
       "<Figure size 432x288 with 1 Axes>"
      ]
     },
     "metadata": {
      "needs_background": "light"
     },
     "output_type": "display_data"
    }
   ],
   "source": [
    "# count plot of ride length categories\n",
    "\n",
    "sns.countplot(data=df_timestamp, x='ride_length', order=['short','medium','long']);"
   ]
  },
  {
   "cell_type": "code",
   "execution_count": 34,
   "metadata": {},
   "outputs": [
    {
     "data": {
      "image/png": "[encoded data removed]",
      "text/plain": [
       "<Figure size 432x288 with 1 Axes>"
      ]
     },
     "metadata": {
      "needs_background": "light"
     },
     "output_type": "display_data"
    }
   ],
   "source": [
    "# count plot of ride time categories\n",
    "\n",
    "sns.countplot(data=df_timestamp, x='ride_time', order=['morning','evening','night']);"
   ]
  },
  {
   "cell_type": "code",
   "execution_count": 35,
   "metadata": {},
   "outputs": [],
   "source": [
    "#merge ride data and timestamp data\n",
    "df_combined= pd.merge(df_ride, df_timestamp, on='ride_id')"
   ]
  },
  {
   "cell_type": "code",
   "execution_count": 36,
   "metadata": {},
   "outputs": [],
   "source": [
    "df_combined['ride_date']=df_combined['picked_up_at'].dt.date"
   ]
  },
  {
   "cell_type": "code",
   "execution_count": 37,
   "metadata": {},
   "outputs": [
    {
     "data": {
      "text/html": [
       "<div>\n",
       "<style scoped>\n",
       "    .dataframe tbody tr th:only-of-type {\n",
       "        vertical-align: middle;\n",
       "    }\n",
       "\n",
       "    .dataframe tbody tr th {\n",
       "        vertical-align: top;\n",
       "    }\n",
       "\n",
       "    .dataframe thead th {\n",
       "        text-align: right;\n",
       "    }\n",
       "</style>\n",
       "<table border=\"1\" class=\"dataframe\">\n",
       "  <thead>\n",
       "    <tr style=\"text-align: right;\">\n",
       "      <th>ride_date</th>\n",
       "      <th>driver_id</th>\n",
       "      <th>2016-03-28</th>\n",
       "      <th>2016-03-29</th>\n",
       "      <th>2016-03-30</th>\n",
       "      <th>2016-03-31</th>\n",
       "      <th>2016-04-01</th>\n",
       "      <th>2016-04-02</th>\n",
       "      <th>2016-04-03</th>\n",
       "      <th>2016-04-04</th>\n",
       "      <th>2016-04-05</th>\n",
       "      <th>...</th>\n",
       "      <th>2016-06-18</th>\n",
       "      <th>2016-06-19</th>\n",
       "      <th>2016-06-20</th>\n",
       "      <th>2016-06-21</th>\n",
       "      <th>2016-06-22</th>\n",
       "      <th>2016-06-23</th>\n",
       "      <th>2016-06-24</th>\n",
       "      <th>2016-06-25</th>\n",
       "      <th>2016-06-26</th>\n",
       "      <th>2016-06-27</th>\n",
       "    </tr>\n",
       "  </thead>\n",
       "  <tbody>\n",
       "    <tr>\n",
       "      <th>0</th>\n",
       "      <td>002be0ffdc997bd5c50703158b7c2491</td>\n",
       "      <td>0.0</td>\n",
       "      <td>6.0</td>\n",
       "      <td>0.0</td>\n",
       "      <td>8.0</td>\n",
       "      <td>7.0</td>\n",
       "      <td>5.0</td>\n",
       "      <td>0.0</td>\n",
       "      <td>0.0</td>\n",
       "      <td>7.0</td>\n",
       "      <td>...</td>\n",
       "      <td>3.0</td>\n",
       "      <td>0.0</td>\n",
       "      <td>2.0</td>\n",
       "      <td>9.0</td>\n",
       "      <td>3.0</td>\n",
       "      <td>5.0</td>\n",
       "      <td>0.0</td>\n",
       "      <td>0.0</td>\n",
       "      <td>0.0</td>\n",
       "      <td>0.0</td>\n",
       "    </tr>\n",
       "    <tr>\n",
       "      <th>1</th>\n",
       "      <td>007f0389f9c7b03ef97098422f902e62</td>\n",
       "      <td>0.0</td>\n",
       "      <td>1.0</td>\n",
       "      <td>0.0</td>\n",
       "      <td>0.0</td>\n",
       "      <td>0.0</td>\n",
       "      <td>0.0</td>\n",
       "      <td>0.0</td>\n",
       "      <td>0.0</td>\n",
       "      <td>0.0</td>\n",
       "      <td>...</td>\n",
       "      <td>0.0</td>\n",
       "      <td>0.0</td>\n",
       "      <td>0.0</td>\n",
       "      <td>0.0</td>\n",
       "      <td>2.0</td>\n",
       "      <td>0.0</td>\n",
       "      <td>0.0</td>\n",
       "      <td>0.0</td>\n",
       "      <td>0.0</td>\n",
       "      <td>0.0</td>\n",
       "    </tr>\n",
       "    <tr>\n",
       "      <th>2</th>\n",
       "      <td>011e5c5dfc5c2c92501b8b24d47509bc</td>\n",
       "      <td>0.0</td>\n",
       "      <td>0.0</td>\n",
       "      <td>0.0</td>\n",
       "      <td>0.0</td>\n",
       "      <td>0.0</td>\n",
       "      <td>0.0</td>\n",
       "      <td>0.0</td>\n",
       "      <td>0.0</td>\n",
       "      <td>2.0</td>\n",
       "      <td>...</td>\n",
       "      <td>0.0</td>\n",
       "      <td>0.0</td>\n",
       "      <td>0.0</td>\n",
       "      <td>0.0</td>\n",
       "      <td>0.0</td>\n",
       "      <td>0.0</td>\n",
       "      <td>0.0</td>\n",
       "      <td>0.0</td>\n",
       "      <td>0.0</td>\n",
       "      <td>0.0</td>\n",
       "    </tr>\n",
       "    <tr>\n",
       "      <th>3</th>\n",
       "      <td>0152a2f305e71d26cc964f8d4411add9</td>\n",
       "      <td>0.0</td>\n",
       "      <td>0.0</td>\n",
       "      <td>0.0</td>\n",
       "      <td>0.0</td>\n",
       "      <td>0.0</td>\n",
       "      <td>0.0</td>\n",
       "      <td>0.0</td>\n",
       "      <td>0.0</td>\n",
       "      <td>0.0</td>\n",
       "      <td>...</td>\n",
       "      <td>0.0</td>\n",
       "      <td>0.0</td>\n",
       "      <td>0.0</td>\n",
       "      <td>6.0</td>\n",
       "      <td>12.0</td>\n",
       "      <td>10.0</td>\n",
       "      <td>4.0</td>\n",
       "      <td>7.0</td>\n",
       "      <td>3.0</td>\n",
       "      <td>0.0</td>\n",
       "    </tr>\n",
       "    <tr>\n",
       "      <th>4</th>\n",
       "      <td>01674381af7edd264113d4e6ed55ecda</td>\n",
       "      <td>0.0</td>\n",
       "      <td>0.0</td>\n",
       "      <td>0.0</td>\n",
       "      <td>0.0</td>\n",
       "      <td>0.0</td>\n",
       "      <td>0.0</td>\n",
       "      <td>0.0</td>\n",
       "      <td>0.0</td>\n",
       "      <td>0.0</td>\n",
       "      <td>...</td>\n",
       "      <td>0.0</td>\n",
       "      <td>0.0</td>\n",
       "      <td>9.0</td>\n",
       "      <td>10.0</td>\n",
       "      <td>13.0</td>\n",
       "      <td>13.0</td>\n",
       "      <td>9.0</td>\n",
       "      <td>0.0</td>\n",
       "      <td>0.0</td>\n",
       "      <td>0.0</td>\n",
       "    </tr>\n",
       "    <tr>\n",
       "      <th>...</th>\n",
       "      <td>...</td>\n",
       "      <td>...</td>\n",
       "      <td>...</td>\n",
       "      <td>...</td>\n",
       "      <td>...</td>\n",
       "      <td>...</td>\n",
       "      <td>...</td>\n",
       "      <td>...</td>\n",
       "      <td>...</td>\n",
       "      <td>...</td>\n",
       "      <td>...</td>\n",
       "      <td>...</td>\n",
       "      <td>...</td>\n",
       "      <td>...</td>\n",
       "      <td>...</td>\n",
       "      <td>...</td>\n",
       "      <td>...</td>\n",
       "      <td>...</td>\n",
       "      <td>...</td>\n",
       "      <td>...</td>\n",
       "      <td>...</td>\n",
       "    </tr>\n",
       "    <tr>\n",
       "      <th>839</th>\n",
       "      <td>ff419a3476e21e269e340b5f1f05414e</td>\n",
       "      <td>0.0</td>\n",
       "      <td>0.0</td>\n",
       "      <td>0.0</td>\n",
       "      <td>0.0</td>\n",
       "      <td>0.0</td>\n",
       "      <td>0.0</td>\n",
       "      <td>0.0</td>\n",
       "      <td>0.0</td>\n",
       "      <td>0.0</td>\n",
       "      <td>...</td>\n",
       "      <td>0.0</td>\n",
       "      <td>0.0</td>\n",
       "      <td>0.0</td>\n",
       "      <td>0.0</td>\n",
       "      <td>10.0</td>\n",
       "      <td>8.0</td>\n",
       "      <td>2.0</td>\n",
       "      <td>8.0</td>\n",
       "      <td>9.0</td>\n",
       "      <td>0.0</td>\n",
       "    </tr>\n",
       "    <tr>\n",
       "      <th>840</th>\n",
       "      <td>ff714a67ba8c6a108261cd81e3b77f3a</td>\n",
       "      <td>16.0</td>\n",
       "      <td>3.0</td>\n",
       "      <td>13.0</td>\n",
       "      <td>10.0</td>\n",
       "      <td>11.0</td>\n",
       "      <td>5.0</td>\n",
       "      <td>0.0</td>\n",
       "      <td>4.0</td>\n",
       "      <td>1.0</td>\n",
       "      <td>...</td>\n",
       "      <td>0.0</td>\n",
       "      <td>0.0</td>\n",
       "      <td>0.0</td>\n",
       "      <td>0.0</td>\n",
       "      <td>0.0</td>\n",
       "      <td>0.0</td>\n",
       "      <td>0.0</td>\n",
       "      <td>0.0</td>\n",
       "      <td>0.0</td>\n",
       "      <td>0.0</td>\n",
       "    </tr>\n",
       "    <tr>\n",
       "      <th>841</th>\n",
       "      <td>fff482c704d36a1afe8b8978d5486283</td>\n",
       "      <td>0.0</td>\n",
       "      <td>0.0</td>\n",
       "      <td>0.0</td>\n",
       "      <td>0.0</td>\n",
       "      <td>0.0</td>\n",
       "      <td>0.0</td>\n",
       "      <td>0.0</td>\n",
       "      <td>0.0</td>\n",
       "      <td>0.0</td>\n",
       "      <td>...</td>\n",
       "      <td>0.0</td>\n",
       "      <td>0.0</td>\n",
       "      <td>0.0</td>\n",
       "      <td>0.0</td>\n",
       "      <td>0.0</td>\n",
       "      <td>0.0</td>\n",
       "      <td>0.0</td>\n",
       "      <td>0.0</td>\n",
       "      <td>0.0</td>\n",
       "      <td>0.0</td>\n",
       "    </tr>\n",
       "    <tr>\n",
       "      <th>842</th>\n",
       "      <td>fffecccc49436c5389075b13209f0dfa</td>\n",
       "      <td>0.0</td>\n",
       "      <td>0.0</td>\n",
       "      <td>0.0</td>\n",
       "      <td>0.0</td>\n",
       "      <td>0.0</td>\n",
       "      <td>0.0</td>\n",
       "      <td>0.0</td>\n",
       "      <td>0.0</td>\n",
       "      <td>0.0</td>\n",
       "      <td>...</td>\n",
       "      <td>11.0</td>\n",
       "      <td>10.0</td>\n",
       "      <td>3.0</td>\n",
       "      <td>3.0</td>\n",
       "      <td>4.0</td>\n",
       "      <td>5.0</td>\n",
       "      <td>2.0</td>\n",
       "      <td>17.0</td>\n",
       "      <td>11.0</td>\n",
       "      <td>0.0</td>\n",
       "    </tr>\n",
       "    <tr>\n",
       "      <th>843</th>\n",
       "      <td>ffff51a71f2f185ec5e97d59dbcd7a78</td>\n",
       "      <td>0.0</td>\n",
       "      <td>0.0</td>\n",
       "      <td>0.0</td>\n",
       "      <td>0.0</td>\n",
       "      <td>0.0</td>\n",
       "      <td>0.0</td>\n",
       "      <td>0.0</td>\n",
       "      <td>0.0</td>\n",
       "      <td>0.0</td>\n",
       "      <td>...</td>\n",
       "      <td>5.0</td>\n",
       "      <td>2.0</td>\n",
       "      <td>5.0</td>\n",
       "      <td>4.0</td>\n",
       "      <td>4.0</td>\n",
       "      <td>1.0</td>\n",
       "      <td>16.0</td>\n",
       "      <td>7.0</td>\n",
       "      <td>1.0</td>\n",
       "      <td>1.0</td>\n",
       "    </tr>\n",
       "  </tbody>\n",
       "</table>\n",
       "<p>844 rows × 93 columns</p>\n",
       "</div>"
      ],
      "text/plain": [
       "ride_date                         driver_id  2016-03-28  2016-03-29  \\\n",
       "0          002be0ffdc997bd5c50703158b7c2491         0.0         6.0   \n",
       "1          007f0389f9c7b03ef97098422f902e62         0.0         1.0   \n",
       "2          011e5c5dfc5c2c92501b8b24d47509bc         0.0         0.0   \n",
       "3          0152a2f305e71d26cc964f8d4411add9         0.0         0.0   \n",
       "4          01674381af7edd264113d4e6ed55ecda         0.0         0.0   \n",
       "..                                      ...         ...         ...   \n",
       "839        ff419a3476e21e269e340b5f1f05414e         0.0         0.0   \n",
       "840        ff714a67ba8c6a108261cd81e3b77f3a        16.0         3.0   \n",
       "841        fff482c704d36a1afe8b8978d5486283         0.0         0.0   \n",
       "842        fffecccc49436c5389075b13209f0dfa         0.0         0.0   \n",
       "843        ffff51a71f2f185ec5e97d59dbcd7a78         0.0         0.0   \n",
       "\n",
       "ride_date  2016-03-30  2016-03-31  2016-04-01  2016-04-02  2016-04-03  \\\n",
       "0                 0.0         8.0         7.0         5.0         0.0   \n",
       "1                 0.0         0.0         0.0         0.0         0.0   \n",
       "2                 0.0         0.0         0.0         0.0         0.0   \n",
       "3                 0.0         0.0         0.0         0.0         0.0   \n",
       "4                 0.0         0.0         0.0         0.0         0.0   \n",
       "..                ...         ...         ...         ...         ...   \n",
       "839               0.0         0.0         0.0         0.0         0.0   \n",
       "840              13.0        10.0        11.0         5.0         0.0   \n",
       "841               0.0         0.0         0.0         0.0         0.0   \n",
       "842               0.0         0.0         0.0         0.0         0.0   \n",
       "843               0.0         0.0         0.0         0.0         0.0   \n",
       "\n",
       "ride_date  2016-04-04  2016-04-05  ...  2016-06-18  2016-06-19  2016-06-20  \\\n",
       "0                 0.0         7.0  ...         3.0         0.0         2.0   \n",
       "1                 0.0         0.0  ...         0.0         0.0         0.0   \n",
       "2                 0.0         2.0  ...         0.0         0.0         0.0   \n",
       "3                 0.0         0.0  ...         0.0         0.0         0.0   \n",
       "4                 0.0         0.0  ...         0.0         0.0         9.0   \n",
       "..                ...         ...  ...         ...         ...         ...   \n",
       "839               0.0         0.0  ...         0.0         0.0         0.0   \n",
       "840               4.0         1.0  ...         0.0         0.0         0.0   \n",
       "841               0.0         0.0  ...         0.0         0.0         0.0   \n",
       "842               0.0         0.0  ...        11.0        10.0         3.0   \n",
       "843               0.0         0.0  ...         5.0         2.0         5.0   \n",
       "\n",
       "ride_date  2016-06-21  2016-06-22  2016-06-23  2016-06-24  2016-06-25  \\\n",
       "0                 9.0         3.0         5.0         0.0         0.0   \n",
       "1                 0.0         2.0         0.0         0.0         0.0   \n",
       "2                 0.0         0.0         0.0         0.0         0.0   \n",
       "3                 6.0        12.0        10.0         4.0         7.0   \n",
       "4                10.0        13.0        13.0         9.0         0.0   \n",
       "..                ...         ...         ...         ...         ...   \n",
       "839               0.0        10.0         8.0         2.0         8.0   \n",
       "840               0.0         0.0         0.0         0.0         0.0   \n",
       "841               0.0         0.0         0.0         0.0         0.0   \n",
       "842               3.0         4.0         5.0         2.0        17.0   \n",
       "843               4.0         4.0         1.0        16.0         7.0   \n",
       "\n",
       "ride_date  2016-06-26  2016-06-27  \n",
       "0                 0.0         0.0  \n",
       "1                 0.0         0.0  \n",
       "2                 0.0         0.0  \n",
       "3                 3.0         0.0  \n",
       "4                 0.0         0.0  \n",
       "..                ...         ...  \n",
       "839               9.0         0.0  \n",
       "840               0.0         0.0  \n",
       "841               0.0         0.0  \n",
       "842              11.0         0.0  \n",
       "843               1.0         1.0  \n",
       "\n",
       "[844 rows x 93 columns]"
      ]
     },
     "execution_count": 37,
     "metadata": {},
     "output_type": "execute_result"
    }
   ],
   "source": [
    "# calculate driver_perday_ridecount\n",
    "driver_ride_count= df_combined.pivot_table( index='driver_id', columns='ride_date', aggfunc='size').fillna(0).reset_index()\n",
    "driver_ride_count"
   ]
  },
  {
   "cell_type": "code",
   "execution_count": 38,
   "metadata": {},
   "outputs": [],
   "source": [
    " mean_ride_number= driver_ride_count.mean(axis=1)\n"
   ]
  },
  {
   "cell_type": "code",
   "execution_count": 39,
   "metadata": {},
   "outputs": [
    {
     "data": {
      "text/html": [
       "<div>\n",
       "<style scoped>\n",
       "    .dataframe tbody tr th:only-of-type {\n",
       "        vertical-align: middle;\n",
       "    }\n",
       "\n",
       "    .dataframe tbody tr th {\n",
       "        vertical-align: top;\n",
       "    }\n",
       "\n",
       "    .dataframe thead th {\n",
       "        text-align: right;\n",
       "    }\n",
       "</style>\n",
       "<table border=\"1\" class=\"dataframe\">\n",
       "  <thead>\n",
       "    <tr style=\"text-align: right;\">\n",
       "      <th></th>\n",
       "      <th>driver_id</th>\n",
       "      <th>mean_ride_number_per_day</th>\n",
       "    </tr>\n",
       "  </thead>\n",
       "  <tbody>\n",
       "    <tr>\n",
       "      <th>0</th>\n",
       "      <td>002be0ffdc997bd5c50703158b7c2491</td>\n",
       "      <td>3.010870</td>\n",
       "    </tr>\n",
       "    <tr>\n",
       "      <th>1</th>\n",
       "      <td>007f0389f9c7b03ef97098422f902e62</td>\n",
       "      <td>0.336957</td>\n",
       "    </tr>\n",
       "    <tr>\n",
       "      <th>2</th>\n",
       "      <td>011e5c5dfc5c2c92501b8b24d47509bc</td>\n",
       "      <td>0.369565</td>\n",
       "    </tr>\n",
       "    <tr>\n",
       "      <th>3</th>\n",
       "      <td>0152a2f305e71d26cc964f8d4411add9</td>\n",
       "      <td>2.076087</td>\n",
       "    </tr>\n",
       "    <tr>\n",
       "      <th>4</th>\n",
       "      <td>01674381af7edd264113d4e6ed55ecda</td>\n",
       "      <td>4.076087</td>\n",
       "    </tr>\n",
       "    <tr>\n",
       "      <th>...</th>\n",
       "      <td>...</td>\n",
       "      <td>...</td>\n",
       "    </tr>\n",
       "    <tr>\n",
       "      <th>839</th>\n",
       "      <td>ff419a3476e21e269e340b5f1f05414e</td>\n",
       "      <td>2.630435</td>\n",
       "    </tr>\n",
       "    <tr>\n",
       "      <th>840</th>\n",
       "      <td>ff714a67ba8c6a108261cd81e3b77f3a</td>\n",
       "      <td>5.271739</td>\n",
       "    </tr>\n",
       "    <tr>\n",
       "      <th>841</th>\n",
       "      <td>fff482c704d36a1afe8b8978d5486283</td>\n",
       "      <td>0.380435</td>\n",
       "    </tr>\n",
       "    <tr>\n",
       "      <th>842</th>\n",
       "      <td>fffecccc49436c5389075b13209f0dfa</td>\n",
       "      <td>4.413043</td>\n",
       "    </tr>\n",
       "    <tr>\n",
       "      <th>843</th>\n",
       "      <td>ffff51a71f2f185ec5e97d59dbcd7a78</td>\n",
       "      <td>3.586957</td>\n",
       "    </tr>\n",
       "  </tbody>\n",
       "</table>\n",
       "<p>844 rows × 2 columns</p>\n",
       "</div>"
      ],
      "text/plain": [
       "                            driver_id  mean_ride_number_per_day\n",
       "0    002be0ffdc997bd5c50703158b7c2491                  3.010870\n",
       "1    007f0389f9c7b03ef97098422f902e62                  0.336957\n",
       "2    011e5c5dfc5c2c92501b8b24d47509bc                  0.369565\n",
       "3    0152a2f305e71d26cc964f8d4411add9                  2.076087\n",
       "4    01674381af7edd264113d4e6ed55ecda                  4.076087\n",
       "..                                ...                       ...\n",
       "839  ff419a3476e21e269e340b5f1f05414e                  2.630435\n",
       "840  ff714a67ba8c6a108261cd81e3b77f3a                  5.271739\n",
       "841  fff482c704d36a1afe8b8978d5486283                  0.380435\n",
       "842  fffecccc49436c5389075b13209f0dfa                  4.413043\n",
       "843  ffff51a71f2f185ec5e97d59dbcd7a78                  3.586957\n",
       "\n",
       "[844 rows x 2 columns]"
      ]
     },
     "execution_count": 39,
     "metadata": {},
     "output_type": "execute_result"
    }
   ],
   "source": [
    "# Calc. mean driver count ride per day\n",
    "\n",
    "df_ride_number_per_day = pd.concat([driver_ride_count['driver_id'], mean_ride_number.reset_index()[0]], axis=1)\n",
    "df_ride_number_per_day.columns=['driver_id', 'mean_ride_number_per_day']\n",
    "df_ride_number_per_day"
   ]
  },
  {
   "cell_type": "code",
   "execution_count": 40,
   "metadata": {},
   "outputs": [],
   "source": [
    " \n",
    "df_total = pd.merge(df_combined, df_ride_number_per_day, on='driver_id')"
   ]
  },
  {
   "cell_type": "code",
   "execution_count": 41,
   "metadata": {},
   "outputs": [
    {
     "data": {
      "text/plain": [
       "Index(['driver_id', 'ride_id', 'ride_distance', 'ride_duration',\n",
       "       'ride_prime_time', 'cost_per_ride', 'accepted_at', 'arrived_at',\n",
       "       'dropped_off_at', 'picked_up_at', 'requested_at',\n",
       "       'ride_accept_response_time', 'ride_arrival_time', 'ride_time',\n",
       "       'ride_wait_time', 'ride_length', 'ride_date',\n",
       "       'mean_ride_number_per_day'],\n",
       "      dtype='object')"
      ]
     },
     "execution_count": 41,
     "metadata": {},
     "output_type": "execute_result"
    }
   ],
   "source": [
    "df_total.columns"
   ]
  },
  {
   "cell_type": "code",
   "execution_count": 42,
   "metadata": {},
   "outputs": [],
   "source": [
    "# Calc. driver total ride count, driver total ride distance, driver total ride duration,driver lifetime value \n",
    "# Calc mean driver count ride per day, mean of ride accept responce time for every driver, mean of ride arrival time for every driver\n",
    "# Calc mean of ride wait time for every driver\n",
    "df_agg = df_total.groupby(['driver_id']).agg({'ride_id':'count', 'ride_distance':'sum', 'ride_duration':'sum',\n",
    "                                       'cost_per_ride':'sum', 'mean_ride_number_per_day':'mean', 'ride_accept_response_time':'mean',\n",
    "                                    'ride_arrival_time':'mean','ride_wait_time':'mean', }).reset_index()"
   ]
  },
  {
   "cell_type": "code",
   "execution_count": 43,
   "metadata": {},
   "outputs": [
    {
     "data": {
      "text/html": [
       "<div>\n",
       "<style scoped>\n",
       "    .dataframe tbody tr th:only-of-type {\n",
       "        vertical-align: middle;\n",
       "    }\n",
       "\n",
       "    .dataframe tbody tr th {\n",
       "        vertical-align: top;\n",
       "    }\n",
       "\n",
       "    .dataframe thead th {\n",
       "        text-align: right;\n",
       "    }\n",
       "</style>\n",
       "<table border=\"1\" class=\"dataframe\">\n",
       "  <thead>\n",
       "    <tr style=\"text-align: right;\">\n",
       "      <th>ride_length</th>\n",
       "      <th>driver_id</th>\n",
       "      <th>long</th>\n",
       "      <th>medium</th>\n",
       "      <th>short</th>\n",
       "    </tr>\n",
       "  </thead>\n",
       "  <tbody>\n",
       "    <tr>\n",
       "      <th>0</th>\n",
       "      <td>002be0ffdc997bd5c50703158b7c2491</td>\n",
       "      <td>80.0</td>\n",
       "      <td>104.0</td>\n",
       "      <td>93.0</td>\n",
       "    </tr>\n",
       "    <tr>\n",
       "      <th>1</th>\n",
       "      <td>007f0389f9c7b03ef97098422f902e62</td>\n",
       "      <td>6.0</td>\n",
       "      <td>14.0</td>\n",
       "      <td>11.0</td>\n",
       "    </tr>\n",
       "    <tr>\n",
       "      <th>2</th>\n",
       "      <td>011e5c5dfc5c2c92501b8b24d47509bc</td>\n",
       "      <td>8.0</td>\n",
       "      <td>14.0</td>\n",
       "      <td>12.0</td>\n",
       "    </tr>\n",
       "    <tr>\n",
       "      <th>3</th>\n",
       "      <td>0152a2f305e71d26cc964f8d4411add9</td>\n",
       "      <td>73.0</td>\n",
       "      <td>62.0</td>\n",
       "      <td>56.0</td>\n",
       "    </tr>\n",
       "    <tr>\n",
       "      <th>4</th>\n",
       "      <td>01674381af7edd264113d4e6ed55ecda</td>\n",
       "      <td>172.0</td>\n",
       "      <td>112.0</td>\n",
       "      <td>91.0</td>\n",
       "    </tr>\n",
       "    <tr>\n",
       "      <th>...</th>\n",
       "      <td>...</td>\n",
       "      <td>...</td>\n",
       "      <td>...</td>\n",
       "      <td>...</td>\n",
       "    </tr>\n",
       "    <tr>\n",
       "      <th>839</th>\n",
       "      <td>ff419a3476e21e269e340b5f1f05414e</td>\n",
       "      <td>115.0</td>\n",
       "      <td>73.0</td>\n",
       "      <td>54.0</td>\n",
       "    </tr>\n",
       "    <tr>\n",
       "      <th>840</th>\n",
       "      <td>ff714a67ba8c6a108261cd81e3b77f3a</td>\n",
       "      <td>212.0</td>\n",
       "      <td>123.0</td>\n",
       "      <td>150.0</td>\n",
       "    </tr>\n",
       "    <tr>\n",
       "      <th>841</th>\n",
       "      <td>fff482c704d36a1afe8b8978d5486283</td>\n",
       "      <td>8.0</td>\n",
       "      <td>15.0</td>\n",
       "      <td>12.0</td>\n",
       "    </tr>\n",
       "    <tr>\n",
       "      <th>842</th>\n",
       "      <td>fffecccc49436c5389075b13209f0dfa</td>\n",
       "      <td>156.0</td>\n",
       "      <td>119.0</td>\n",
       "      <td>131.0</td>\n",
       "    </tr>\n",
       "    <tr>\n",
       "      <th>843</th>\n",
       "      <td>ffff51a71f2f185ec5e97d59dbcd7a78</td>\n",
       "      <td>99.0</td>\n",
       "      <td>128.0</td>\n",
       "      <td>103.0</td>\n",
       "    </tr>\n",
       "  </tbody>\n",
       "</table>\n",
       "<p>844 rows × 4 columns</p>\n",
       "</div>"
      ],
      "text/plain": [
       "ride_length                         driver_id   long  medium  short\n",
       "0            002be0ffdc997bd5c50703158b7c2491   80.0   104.0   93.0\n",
       "1            007f0389f9c7b03ef97098422f902e62    6.0    14.0   11.0\n",
       "2            011e5c5dfc5c2c92501b8b24d47509bc    8.0    14.0   12.0\n",
       "3            0152a2f305e71d26cc964f8d4411add9   73.0    62.0   56.0\n",
       "4            01674381af7edd264113d4e6ed55ecda  172.0   112.0   91.0\n",
       "..                                        ...    ...     ...    ...\n",
       "839          ff419a3476e21e269e340b5f1f05414e  115.0    73.0   54.0\n",
       "840          ff714a67ba8c6a108261cd81e3b77f3a  212.0   123.0  150.0\n",
       "841          fff482c704d36a1afe8b8978d5486283    8.0    15.0   12.0\n",
       "842          fffecccc49436c5389075b13209f0dfa  156.0   119.0  131.0\n",
       "843          ffff51a71f2f185ec5e97d59dbcd7a78   99.0   128.0  103.0\n",
       "\n",
       "[844 rows x 4 columns]"
      ]
     },
     "execution_count": 43,
     "metadata": {},
     "output_type": "execute_result"
    }
   ],
   "source": [
    "#count total no. of short/medium/long evening rides\n",
    "df_ride_agg = pd.pivot_table(data= df_combined, index='driver_id', columns='ride_length', aggfunc='size').reset_index()\n",
    "df_ride_agg"
   ]
  },
  {
   "cell_type": "code",
   "execution_count": 44,
   "metadata": {},
   "outputs": [
    {
     "ename": "KeyError",
     "evalue": "'picking_time'",
     "output_type": "error",
     "traceback": [
      "\u001b[0;31m---------------------------------------------------------------------------\u001b[0m",
      "\u001b[0;31mKeyError\u001b[0m                                  Traceback (most recent call last)",
      "\u001b[0;32m<ipython-input-44-bb72d26d2523>\u001b[0m in \u001b[0;36m<module>\u001b[0;34m\u001b[0m\n\u001b[1;32m      1\u001b[0m \u001b[0;31m# count total no. of day/night/night evening rides\u001b[0m\u001b[0;34m\u001b[0m\u001b[0;34m\u001b[0m\u001b[0;34m\u001b[0m\u001b[0m\n\u001b[1;32m      2\u001b[0m \u001b[0;34m\u001b[0m\u001b[0m\n\u001b[0;32m----> 3\u001b[0;31m \u001b[0mdf_time_agg\u001b[0m \u001b[0;34m=\u001b[0m \u001b[0mpd\u001b[0m\u001b[0;34m.\u001b[0m\u001b[0mpivot_table\u001b[0m\u001b[0;34m(\u001b[0m\u001b[0mdata\u001b[0m\u001b[0;34m=\u001b[0m \u001b[0mdf_combined\u001b[0m\u001b[0;34m,\u001b[0m \u001b[0mindex\u001b[0m\u001b[0;34m=\u001b[0m\u001b[0;34m'driver_id'\u001b[0m\u001b[0;34m,\u001b[0m \u001b[0mcolumns\u001b[0m\u001b[0;34m=\u001b[0m\u001b[0;34m'picking_time'\u001b[0m\u001b[0;34m,\u001b[0m \u001b[0maggfunc\u001b[0m\u001b[0;34m=\u001b[0m\u001b[0;34m'size'\u001b[0m\u001b[0;34m)\u001b[0m\u001b[0;34m.\u001b[0m\u001b[0mreset_index\u001b[0m\u001b[0;34m(\u001b[0m\u001b[0;34m)\u001b[0m\u001b[0;34m\u001b[0m\u001b[0;34m\u001b[0m\u001b[0m\n\u001b[0m\u001b[1;32m      4\u001b[0m \u001b[0mdf_time_agg\u001b[0m\u001b[0;34m\u001b[0m\u001b[0;34m\u001b[0m\u001b[0m\n",
      "\u001b[0;32m~/opt/anaconda3/lib/python3.8/site-packages/pandas/core/reshape/pivot.py\u001b[0m in \u001b[0;36mpivot_table\u001b[0;34m(data, values, index, columns, aggfunc, fill_value, margins, dropna, margins_name, observed)\u001b[0m\n\u001b[1;32m    109\u001b[0m         \u001b[0mvalues\u001b[0m \u001b[0;34m=\u001b[0m \u001b[0mlist\u001b[0m\u001b[0;34m(\u001b[0m\u001b[0mvalues\u001b[0m\u001b[0;34m)\u001b[0m\u001b[0;34m\u001b[0m\u001b[0;34m\u001b[0m\u001b[0m\n\u001b[1;32m    110\u001b[0m \u001b[0;34m\u001b[0m\u001b[0m\n\u001b[0;32m--> 111\u001b[0;31m     \u001b[0mgrouped\u001b[0m \u001b[0;34m=\u001b[0m \u001b[0mdata\u001b[0m\u001b[0;34m.\u001b[0m\u001b[0mgroupby\u001b[0m\u001b[0;34m(\u001b[0m\u001b[0mkeys\u001b[0m\u001b[0;34m,\u001b[0m \u001b[0mobserved\u001b[0m\u001b[0;34m=\u001b[0m\u001b[0mobserved\u001b[0m\u001b[0;34m)\u001b[0m\u001b[0;34m\u001b[0m\u001b[0;34m\u001b[0m\u001b[0m\n\u001b[0m\u001b[1;32m    112\u001b[0m     \u001b[0magged\u001b[0m \u001b[0;34m=\u001b[0m \u001b[0mgrouped\u001b[0m\u001b[0;34m.\u001b[0m\u001b[0magg\u001b[0m\u001b[0;34m(\u001b[0m\u001b[0maggfunc\u001b[0m\u001b[0;34m)\u001b[0m\u001b[0;34m\u001b[0m\u001b[0;34m\u001b[0m\u001b[0m\n\u001b[1;32m    113\u001b[0m     \u001b[0;32mif\u001b[0m \u001b[0mdropna\u001b[0m \u001b[0;32mand\u001b[0m \u001b[0misinstance\u001b[0m\u001b[0;34m(\u001b[0m\u001b[0magged\u001b[0m\u001b[0;34m,\u001b[0m \u001b[0mABCDataFrame\u001b[0m\u001b[0;34m)\u001b[0m \u001b[0;32mand\u001b[0m \u001b[0mlen\u001b[0m\u001b[0;34m(\u001b[0m\u001b[0magged\u001b[0m\u001b[0;34m.\u001b[0m\u001b[0mcolumns\u001b[0m\u001b[0;34m)\u001b[0m\u001b[0;34m:\u001b[0m\u001b[0;34m\u001b[0m\u001b[0;34m\u001b[0m\u001b[0m\n",
      "\u001b[0;32m~/opt/anaconda3/lib/python3.8/site-packages/pandas/core/frame.py\u001b[0m in \u001b[0;36mgroupby\u001b[0;34m(self, by, axis, level, as_index, sort, group_keys, squeeze, observed, dropna)\u001b[0m\n\u001b[1;32m   6509\u001b[0m         \u001b[0maxis\u001b[0m \u001b[0;34m=\u001b[0m \u001b[0mself\u001b[0m\u001b[0;34m.\u001b[0m\u001b[0m_get_axis_number\u001b[0m\u001b[0;34m(\u001b[0m\u001b[0maxis\u001b[0m\u001b[0;34m)\u001b[0m\u001b[0;34m\u001b[0m\u001b[0;34m\u001b[0m\u001b[0m\n\u001b[1;32m   6510\u001b[0m \u001b[0;34m\u001b[0m\u001b[0m\n\u001b[0;32m-> 6511\u001b[0;31m         return DataFrameGroupBy(\n\u001b[0m\u001b[1;32m   6512\u001b[0m             \u001b[0mobj\u001b[0m\u001b[0;34m=\u001b[0m\u001b[0mself\u001b[0m\u001b[0;34m,\u001b[0m\u001b[0;34m\u001b[0m\u001b[0;34m\u001b[0m\u001b[0m\n\u001b[1;32m   6513\u001b[0m             \u001b[0mkeys\u001b[0m\u001b[0;34m=\u001b[0m\u001b[0mby\u001b[0m\u001b[0;34m,\u001b[0m\u001b[0;34m\u001b[0m\u001b[0;34m\u001b[0m\u001b[0m\n",
      "\u001b[0;32m~/opt/anaconda3/lib/python3.8/site-packages/pandas/core/groupby/groupby.py\u001b[0m in \u001b[0;36m__init__\u001b[0;34m(self, obj, keys, axis, level, grouper, exclusions, selection, as_index, sort, group_keys, squeeze, observed, mutated, dropna)\u001b[0m\n\u001b[1;32m    523\u001b[0m             \u001b[0;32mfrom\u001b[0m \u001b[0mpandas\u001b[0m\u001b[0;34m.\u001b[0m\u001b[0mcore\u001b[0m\u001b[0;34m.\u001b[0m\u001b[0mgroupby\u001b[0m\u001b[0;34m.\u001b[0m\u001b[0mgrouper\u001b[0m \u001b[0;32mimport\u001b[0m \u001b[0mget_grouper\u001b[0m\u001b[0;34m\u001b[0m\u001b[0;34m\u001b[0m\u001b[0m\n\u001b[1;32m    524\u001b[0m \u001b[0;34m\u001b[0m\u001b[0m\n\u001b[0;32m--> 525\u001b[0;31m             grouper, exclusions, obj = get_grouper(\n\u001b[0m\u001b[1;32m    526\u001b[0m                 \u001b[0mobj\u001b[0m\u001b[0;34m,\u001b[0m\u001b[0;34m\u001b[0m\u001b[0;34m\u001b[0m\u001b[0m\n\u001b[1;32m    527\u001b[0m                 \u001b[0mkeys\u001b[0m\u001b[0;34m,\u001b[0m\u001b[0;34m\u001b[0m\u001b[0;34m\u001b[0m\u001b[0m\n",
      "\u001b[0;32m~/opt/anaconda3/lib/python3.8/site-packages/pandas/core/groupby/grouper.py\u001b[0m in \u001b[0;36mget_grouper\u001b[0;34m(obj, key, axis, level, sort, observed, mutated, validate, dropna)\u001b[0m\n\u001b[1;32m    779\u001b[0m                 \u001b[0min_axis\u001b[0m\u001b[0;34m,\u001b[0m \u001b[0mname\u001b[0m\u001b[0;34m,\u001b[0m \u001b[0mlevel\u001b[0m\u001b[0;34m,\u001b[0m \u001b[0mgpr\u001b[0m \u001b[0;34m=\u001b[0m \u001b[0;32mFalse\u001b[0m\u001b[0;34m,\u001b[0m \u001b[0;32mNone\u001b[0m\u001b[0;34m,\u001b[0m \u001b[0mgpr\u001b[0m\u001b[0;34m,\u001b[0m \u001b[0;32mNone\u001b[0m\u001b[0;34m\u001b[0m\u001b[0;34m\u001b[0m\u001b[0m\n\u001b[1;32m    780\u001b[0m             \u001b[0;32melse\u001b[0m\u001b[0;34m:\u001b[0m\u001b[0;34m\u001b[0m\u001b[0;34m\u001b[0m\u001b[0m\n\u001b[0;32m--> 781\u001b[0;31m                 \u001b[0;32mraise\u001b[0m \u001b[0mKeyError\u001b[0m\u001b[0;34m(\u001b[0m\u001b[0mgpr\u001b[0m\u001b[0;34m)\u001b[0m\u001b[0;34m\u001b[0m\u001b[0;34m\u001b[0m\u001b[0m\n\u001b[0m\u001b[1;32m    782\u001b[0m         \u001b[0;32melif\u001b[0m \u001b[0misinstance\u001b[0m\u001b[0;34m(\u001b[0m\u001b[0mgpr\u001b[0m\u001b[0;34m,\u001b[0m \u001b[0mGrouper\u001b[0m\u001b[0;34m)\u001b[0m \u001b[0;32mand\u001b[0m \u001b[0mgpr\u001b[0m\u001b[0;34m.\u001b[0m\u001b[0mkey\u001b[0m \u001b[0;32mis\u001b[0m \u001b[0;32mnot\u001b[0m \u001b[0;32mNone\u001b[0m\u001b[0;34m:\u001b[0m\u001b[0;34m\u001b[0m\u001b[0;34m\u001b[0m\u001b[0m\n\u001b[1;32m    783\u001b[0m             \u001b[0;31m# Add key to exclusions\u001b[0m\u001b[0;34m\u001b[0m\u001b[0;34m\u001b[0m\u001b[0;34m\u001b[0m\u001b[0m\n",
      "\u001b[0;31mKeyError\u001b[0m: 'picking_time'"
     ]
    }
   ],
   "source": [
    "# count total no. of day/night/night evening rides\n",
    "\n",
    "df_time_agg = pd.pivot_table(data= df_combined, index='driver_id', columns='picking_time', aggfunc='size').reset_index()\n",
    "df_time_agg"
   ]
  },
  {
   "cell_type": "code",
   "execution_count": null,
   "metadata": {},
   "outputs": [],
   "source": [
    "#merge all dataframes together to have aggregated data\n",
    "df_test = pd.merge(df_agg, df_ride_agg, on=['driver_id'])\n",
    "df_final= pd.merge(df_test, df_time_agg, on=['driver_id'])"
   ]
  },
  {
   "cell_type": "code",
   "execution_count": null,
   "metadata": {},
   "outputs": [],
   "source": [
    "df_final.columns=['driver_id', 'ride_numbers','total_ride_distance', 'total_ride_duration', 'total_value','mean_ride_number_per_day',\n",
    "                 'mean_responce_acceptance_time', 'mean_arrival_time', 'mean_wait_time', 'long_ride_number', 'medium_ride_number',\n",
    "                 'short_ride_number','evening_ride_number','morning_ride_number','night_ride_number']"
   ]
  },
  {
   "cell_type": "code",
   "execution_count": null,
   "metadata": {},
   "outputs": [],
   "source": [
    "df_final.head()"
   ]
  },
  {
   "cell_type": "code",
   "execution_count": null,
   "metadata": {},
   "outputs": [],
   "source": [
    "\n",
    "onboard_data = df_combined.groupby(['driver_id']).agg({'ride_date':'max'}).reset_index()"
   ]
  },
  {
   "cell_type": "code",
   "execution_count": null,
   "metadata": {},
   "outputs": [],
   "source": [
    "# Calc how long do the driver typically continue driving with Lyft\n",
    "\n",
    "df_drive_total = pd.merge( onboard_data, df_drive, on='driver_id')\n",
    "\n",
    "df_drive_total['total_driving_days'] = (pd.to_datetime(df_drive_total['ride_date']) - pd.to_datetime(df_drive_total['driver_onboard_date'])).dt.days\n"
   ]
  },
  {
   "cell_type": "code",
   "execution_count": null,
   "metadata": {},
   "outputs": [],
   "source": [
    "df_drive_total"
   ]
  },
  {
   "cell_type": "code",
   "execution_count": null,
   "metadata": {},
   "outputs": [],
   "source": [
    "driver_info= pd.merge(df_final, df_drive_total[['driver_id','total_driving_days']], on=['driver_id'])"
   ]
  },
  {
   "cell_type": "code",
   "execution_count": null,
   "metadata": {},
   "outputs": [],
   "source": [
    "driver_info"
   ]
  },
  {
   "cell_type": "markdown",
   "metadata": {},
   "source": [
    "## Exploratory Data Analysis"
   ]
  },
  {
   "cell_type": "code",
   "execution_count": null,
   "metadata": {},
   "outputs": [],
   "source": [
    "driver_info.hist(bins=50, figsize=(20,15));"
   ]
  },
  {
   "cell_type": "code",
   "execution_count": null,
   "metadata": {},
   "outputs": [],
   "source": [
    "sns.pairplot(driver_info)"
   ]
  },
  {
   "cell_type": "markdown",
   "metadata": {},
   "source": [
    "## Main Factors Affecting a Driver's Lifetime Value"
   ]
  },
  {
   "cell_type": "code",
   "execution_count": null,
   "metadata": {},
   "outputs": [],
   "source": [
    "# plot a heatmap of correlations betweem features\n",
    "\n",
    "sns.heatmap(driver_info.corr())"
   ]
  },
  {
   "cell_type": "code",
   "execution_count": null,
   "metadata": {},
   "outputs": [],
   "source": [
    "# get a correlation with lifetime_value as a DataFrame sorted in descending order\n",
    "\n",
    "driver_info.corr()['total_value'].sort_values( ascending=False).iloc[1:]"
   ]
  },
  {
   "cell_type": "markdown",
   "metadata": {},
   "source": [
    "## Average Projected Lifetime of a Driver"
   ]
  },
  {
   "cell_type": "code",
   "execution_count": null,
   "metadata": {},
   "outputs": [],
   "source": [
    "\n",
    "sns.histplot(driver_info['total_driving_days'], bins=50)\n",
    "plt.xlabel('duration of stay with Lyft')\n",
    "plt.ylabel('Number of Drivers')"
   ]
  },
  {
   "cell_type": "code",
   "execution_count": null,
   "metadata": {},
   "outputs": [],
   "source": [
    "driver_info['total_driving_days'].describe()"
   ]
  },
  {
   "cell_type": "markdown",
   "metadata": {},
   "source": [
    "After seeing these results we can say the average projected lifetime of a driver is around 55 days.\n",
    "\n"
   ]
  },
  {
   "cell_type": "code",
   "execution_count": null,
   "metadata": {},
   "outputs": [],
   "source": [
    "df_feature = driver_info.iloc[:,1:]"
   ]
  },
  {
   "cell_type": "code",
   "execution_count": null,
   "metadata": {},
   "outputs": [],
   "source": [
    "df_feature.describe()"
   ]
  },
  {
   "cell_type": "markdown",
   "metadata": {},
   "source": [
    "## Do All Drivers Act Alike? - Clustering Exercise"
   ]
  },
  {
   "cell_type": "code",
   "execution_count": null,
   "metadata": {},
   "outputs": [],
   "source": [
    "df_feature.fillna(0, inplace=True)\n"
   ]
  },
  {
   "cell_type": "code",
   "execution_count": null,
   "metadata": {},
   "outputs": [],
   "source": [
    "wcss = []\n",
    "for n_clusters in range(1,10):\n",
    "    kmeans = KMeans(n_clusters=n_clusters)\n",
    "    kmeans.fit(df_feature)\n",
    "    wcss.append(kmeans.inertia_)"
   ]
  },
  {
   "cell_type": "code",
   "execution_count": null,
   "metadata": {},
   "outputs": [],
   "source": [
    "cluster_range= [i for i in range(1,10)]"
   ]
  },
  {
   "cell_type": "code",
   "execution_count": null,
   "metadata": {},
   "outputs": [],
   "source": [
    "plt.plot(cluster_range, wcss, marker='o')\n",
    "plt.xlabel('Number of Clusters')\n",
    "plt.ylabel('WCSS')\n",
    "plt.title('Elbow Method')\n",
    "plt.show()"
   ]
  },
  {
   "cell_type": "code",
   "execution_count": null,
   "metadata": {},
   "outputs": [],
   "source": [
    "# Fit a K-Means model with the optimal number of clusters\n",
    "\n",
    "n_clusters = 4\n",
    "kmeans = KMeans(n_clusters=n_clusters)\n",
    "kmeans.fit(df_feature)\n",
    "cluster_labels = kmeans.labels_\n",
    "# Add the cluster labels to the dataframe\n",
    "\n",
    "df_feature['Cluster'] = cluster_labels\n"
   ]
  },
  {
   "cell_type": "code",
   "execution_count": null,
   "metadata": {},
   "outputs": [],
   "source": [
    "df_cluster = pd.concat( [driver_info[['driver_id']], df_feature], axis=1)\n",
    "df_cluster"
   ]
  },
  {
   "cell_type": "code",
   "execution_count": null,
   "metadata": {},
   "outputs": [],
   "source": [
    "# Plot the distribution of total ride count by cluster\n",
    "\n",
    "sns.histplot(data=df_cluster, x=\"ride_numbers\", hue=\"Cluster\", bins=50, palette=\"tab10\");\n"
   ]
  },
  {
   "cell_type": "code",
   "execution_count": null,
   "metadata": {},
   "outputs": [],
   "source": [
    "# Plot the distribution of total distance by cluster\n",
    "\n",
    "sns.histplot(data=df_cluster, x=\"total_ride_distance\", hue=\"Cluster\", bins=50, palette=\"tab10\");\n"
   ]
  },
  {
   "cell_type": "code",
   "execution_count": null,
   "metadata": {},
   "outputs": [],
   "source": [
    "# Plot the distribution of total duration by cluster\n",
    "\n",
    "sns.histplot(data=df_cluster, x=\"total_ride_duration\", hue=\"Cluster\", bins=50, palette=\"tab10\");\n"
   ]
  },
  {
   "cell_type": "code",
   "execution_count": null,
   "metadata": {},
   "outputs": [],
   "source": [
    "# Plot the distribution of total earnings by cluster\n",
    "\n",
    "sns.histplot(data=df_cluster, x=\"total_value\", hue=\"Cluster\", bins=50, palette=\"tab10\");\n"
   ]
  },
  {
   "cell_type": "code",
   "execution_count": null,
   "metadata": {},
   "outputs": [],
   "source": [
    "# Plot the distribution of driver's lifetime by cluster\n",
    "\n",
    "sns.histplot(data=df_cluster, x=\"total_driving_days\", hue=\"Cluster\", bins=50, palette=\"tab10\");\n"
   ]
  },
  {
   "cell_type": "code",
   "execution_count": null,
   "metadata": {},
   "outputs": [],
   "source": [
    "df_cluster.columns"
   ]
  },
  {
   "cell_type": "code",
   "execution_count": null,
   "metadata": {},
   "outputs": [],
   "source": [
    "df_mean_cluster =df_cluster.groupby(['Cluster'])['ride_numbers', 'total_ride_distance',\n",
    "       'total_ride_duration', 'total_value', 'mean_ride_number_per_day',\n",
    "       'mean_responce_acceptance_time', 'mean_arrival_time', 'mean_wait_time',\n",
    "       'long_ride_number', 'medium_ride_number', 'short_ride_number',\n",
    "       'evening_ride_number', 'morning_ride_number', 'night_ride_number',\n",
    "       'total_driving_days'].mean().reset_index()"
   ]
  },
  {
   "cell_type": "code",
   "execution_count": null,
   "metadata": {},
   "outputs": [],
   "source": [
    "df_mean_cluster"
   ]
  },
  {
   "cell_type": "code",
   "execution_count": null,
   "metadata": {},
   "outputs": [],
   "source": [
    "# create subplots for each column in the grouped dataframe\n",
    "\n",
    "n_cols = 5\n",
    "n_rows = -(-len(df_mean_cluster.columns) // n_cols)\n",
    "\n",
    "fig, axes = plt.subplots(3, 5, figsize=(25, 10))\n",
    "plt.subplots_adjust(wspace=0.3, hspace=0.4)\n",
    "\n",
    "axes = axes.flatten()\n",
    "for i, col in enumerate(df_mean_cluster.columns[1:]):\n",
    "    sns.barplot(data=df_mean_cluster, x='Cluster', y=df_mean_cluster[col], ax=axes[i], order=[1,2,0,3])\n"
   ]
  },
  {
   "cell_type": "markdown",
   "metadata": {},
   "source": [
    "## Clustering Analysis Results\n",
    "\n",
    "After seeing these plots, we can define clusters as follows:\n",
    "\n",
    "- **Cluster 2: Bad drivers**: This cluster has drivers with relatively low total lifetime value, low total ride count, and low total duration and distance. They may have issues with customer service, low demand for their services, or low fares.\n",
    "\n",
    "- **Cluster 0: Fair drivers**: This cluster has drivers with moderate total lifetime value, ride count, duration, and distance. They may not have high demand for their services, but they also do not have any major issues that impact their earnings.\n",
    "\n",
    "- **Cluster 3: Good drivers**: This cluster has drivers with higher total lifetime value, higher ride count, and higher total duration and distance compared to the first two clusters. They may have a consistent demand for their services and a good reputation, leading to higher earnings.\n",
    "\n",
    "- **Cluster 1: Excellent drivers**: This cluster has drivers with the highest total lifetime value, ride count, and total duration and distance. These drivers are likely the most in demand and have a good reputation for providing excellent service to their customers, leading to high earnings.\n",
    "\n",
    "## Actionable Recommendations\n",
    "\n",
    "Here are a few actionable recommendations based on the clustering analysis performed on the driver information data:\n",
    "\n",
    "1. **Focus on retaining good and excellent drivers**: The business should focus on retaining the drivers who belong to the good and excellent clusters as they bring in more revenue and have more frequent rides compared to other drivers.\n",
    "\n",
    "2. **Target improvement of fair drivers**: The business should target to improve the performance of fair drivers, to convert them into good or excellent drivers.\n",
    "\n",
    "3. **Identify and address issues faced by bad drivers**: The business should identify and address the issues faced by the bad drivers, such as low earnings, low ride frequency, and low ride duration, to improve their performance.\n",
    "\n",
    "4. **Personalized incentives and training**: The business can offer personalized incentives and training to drivers based on their performance clusters to further improve their performance.\n",
    "\n",
    "5. **Use clustering results for dynamic pricing**: The clustering results can be used for dynamic pricing, where prices can be adjusted based on the supply and demand of drivers in a particular area.\n",
    "\n",
    "6. **Monitor performance regularly**: The business should regularly monitor the performance of drivers and reassess them based on the clustering results to ensure that they are being properly targeted with the appropriate incentives and support.\n",
    "\n",
    "Implementing these recommendations will help Lyft optimize driver engagement, enhance overall service quality, and increase driver satisfaction, ultimately leading to improved customer experiences and business growth.\n"
   ]
  },
  {
   "cell_type": "code",
   "execution_count": null,
   "metadata": {},
   "outputs": [],
   "source": []
  }
 ],
 "metadata": {
  "kernelspec": {
   "display_name": "Python 3",
   "language": "python",
   "name": "python3"
  },
  "language_info": {
   "codemirror_mode": {
    "name": "ipython",
    "version": 3
   },
   "file_extension": ".py",
   "mimetype": "text/x-python",
   "name": "python",
   "nbconvert_exporter": "python",
   "pygments_lexer": "ipython3",
   "version": "3.8.5"
  }
 },
 "nbformat": 4,
 "nbformat_minor": 4
}
